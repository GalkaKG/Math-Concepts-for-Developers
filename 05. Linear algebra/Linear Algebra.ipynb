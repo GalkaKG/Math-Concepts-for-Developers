{
 "cells": [
  {
   "cell_type": "code",
   "execution_count": 5,
   "id": "cddffb5c-10b4-43a1-9439-8b722ffe8c94",
   "metadata": {},
   "outputs": [],
   "source": [
    "import numpy as np"
   ]
  },
  {
   "cell_type": "code",
   "execution_count": 4,
   "id": "fd6358d7-d61a-49ed-a234-884aea8de7bd",
   "metadata": {},
   "outputs": [
    {
     "data": {
      "text/plain": [
       "[0, 1, 2, 3, 4, 5, 6, 7, 8, 9]"
      ]
     },
     "execution_count": 4,
     "metadata": {},
     "output_type": "execute_result"
    }
   ],
   "source": [
    "list(range(10))"
   ]
  },
  {
   "cell_type": "code",
   "execution_count": 3,
   "id": "196a10ba-aff5-4cb2-987a-a445f768417c",
   "metadata": {},
   "outputs": [
    {
     "name": "stdout",
     "output_type": "stream",
     "text": [
      "0\n",
      "1\n",
      "2\n",
      "3\n",
      "4\n",
      "5\n",
      "6\n",
      "7\n",
      "8\n",
      "9\n"
     ]
    }
   ],
   "source": [
    "for i in range(10):\n",
    "    print(i)"
   ]
  },
  {
   "cell_type": "code",
   "execution_count": 5,
   "id": "c82e96c5-127f-42f3-991e-2f3a3f58eca7",
   "metadata": {},
   "outputs": [],
   "source": [
    "def nat():\n",
    "    current_number = 0\n",
    "    while True:\n",
    "        yield current_number\n",
    "        current_number += 1"
   ]
  },
  {
   "cell_type": "code",
   "execution_count": 5,
   "id": "f744fc17-0ea1-41f1-9754-041a5dbb6bd6",
   "metadata": {},
   "outputs": [],
   "source": [
    "numbers = nat()"
   ]
  },
  {
   "cell_type": "code",
   "execution_count": 9,
   "id": "f200f95a-8bbe-469f-996e-cf8f79bc01a4",
   "metadata": {},
   "outputs": [
    {
     "data": {
      "text/plain": [
       "3"
      ]
     },
     "execution_count": 9,
     "metadata": {},
     "output_type": "execute_result"
    }
   ],
   "source": [
    "next(numbers)"
   ]
  },
  {
   "cell_type": "code",
   "execution_count": 10,
   "id": "16f34827-b4f5-46be-a0ba-1bd71eaee791",
   "metadata": {},
   "outputs": [],
   "source": [
    "def factorials():\n",
    "    natural_numbers = nat()\n",
    "    current_number = next(natural_numbers)\n",
    "    result = 1\n",
    "    while True:\n",
    "        yield result\n",
    "        current_number = next(natural_numbers)\n",
    "        result *= current_number"
   ]
  },
  {
   "cell_type": "code",
   "execution_count": 12,
   "id": "2d6a2813-521a-4c9d-85cd-06311d284997",
   "metadata": {},
   "outputs": [
    {
     "name": "stdout",
     "output_type": "stream",
     "text": [
      "0!= 1\n",
      "1!= 1\n",
      "2!= 2\n",
      "3!= 6\n",
      "4!= 24\n",
      "5!= 120\n",
      "6!= 720\n",
      "7!= 5040\n",
      "8!= 40320\n",
      "9!= 362880\n",
      "10!= 3628800\n",
      "11!= 39916800\n",
      "12!= 479001600\n",
      "13!= 6227020800\n",
      "14!= 87178291200\n",
      "15!= 1307674368000\n",
      "16!= 20922789888000\n",
      "17!= 355687428096000\n"
     ]
    }
   ],
   "source": [
    "# Only prints the factorials\n",
    "for n, n_factorial in enumerate(factorials()):  \n",
    "    print(f\"{n}!=\", n_factorial)\n",
    "    if n_factorial >= 100000000000000:\n",
    "        break"
   ]
  },
  {
   "cell_type": "code",
   "execution_count": 22,
   "id": "dde15c92-a57a-4a8a-aca2-ffba34260558",
   "metadata": {},
   "outputs": [],
   "source": [
    "def fibonacci():\n",
    "    a, b = 0, 1\n",
    "\n",
    "    while True:\n",
    "        yield a\n",
    "        a, b = b, a + b"
   ]
  },
  {
   "cell_type": "code",
   "execution_count": 23,
   "id": "c429b034-40a0-4d7a-9f91-51993fadaf06",
   "metadata": {},
   "outputs": [
    {
     "name": "stdout",
     "output_type": "stream",
     "text": [
      "0 1 1 2 3 5 8 13 21 34 55 89 144 233 377 610 987 1597 2584 4181 6765 10946 17711 28657 46368 75025 121393 "
     ]
    }
   ],
   "source": [
    "for fib in fibonacci():\n",
    "    print(fib, end=\" \")\n",
    "    if fib >= 100000:\n",
    "        break"
   ]
  },
  {
   "cell_type": "markdown",
   "id": "2134fe57-bb84-492b-af1e-79bb2fe0a36a",
   "metadata": {},
   "source": [
    "## Matrices"
   ]
  },
  {
   "cell_type": "code",
   "execution_count": 6,
   "id": "e081e0dd-4ef9-43f1-8c1e-416507f674cb",
   "metadata": {},
   "outputs": [],
   "source": [
    "A = np.array([\n",
    "[2, 3, 7],\n",
    "[8, 9, 1]\n",
    "])\n",
    "\n",
    "B = np.array([\n",
    "[1, -3, 0],\n",
    "[2, -4, 1]\n",
    "])\n"
   ]
  },
  {
   "cell_type": "code",
   "execution_count": 8,
   "id": "2af235ea-9375-44d3-b24d-fb7ecf38cbff",
   "metadata": {},
   "outputs": [
    {
     "data": {
      "text/plain": [
       "array([[2, 8],\n",
       "       [3, 9],\n",
       "       [7, 1]])"
      ]
     },
     "execution_count": 8,
     "metadata": {},
     "output_type": "execute_result"
    }
   ],
   "source": [
    "A.T"
   ]
  },
  {
   "cell_type": "code",
   "execution_count": 9,
   "id": "46eaeb70-f018-4509-ae2f-8fdf487a12c2",
   "metadata": {},
   "outputs": [
    {
     "data": {
      "text/plain": [
       "array([[ 3,  0,  7],\n",
       "       [10,  5,  2]])"
      ]
     },
     "execution_count": 9,
     "metadata": {},
     "output_type": "execute_result"
    }
   ],
   "source": [
    "A + B"
   ]
  },
  {
   "cell_type": "code",
   "execution_count": 10,
   "id": "bb1450a4-5bb7-4855-8606-27bf0eb0e5d4",
   "metadata": {},
   "outputs": [
    {
     "data": {
      "text/plain": [
       "array([[ 4,  6, 14],\n",
       "       [16, 18,  2]])"
      ]
     },
     "execution_count": 10,
     "metadata": {},
     "output_type": "execute_result"
    }
   ],
   "source": [
    "A + A"
   ]
  },
  {
   "cell_type": "code",
   "execution_count": 11,
   "id": "6a90148e-6753-4fce-b62a-4aed0e330a18",
   "metadata": {},
   "outputs": [
    {
     "data": {
      "text/plain": [
       "array([[ 4,  6, 14],\n",
       "       [16, 18,  2]])"
      ]
     },
     "execution_count": 11,
     "metadata": {},
     "output_type": "execute_result"
    }
   ],
   "source": [
    "2 * A"
   ]
  },
  {
   "cell_type": "code",
   "execution_count": 13,
   "id": "01ad7ea5-ea30-497f-8712-f3b7a498f46b",
   "metadata": {},
   "outputs": [
    {
     "data": {
      "text/plain": [
       "array([[ 9, -9, 14],\n",
       "       [26, -2,  7]])"
      ]
     },
     "execution_count": 13,
     "metadata": {},
     "output_type": "execute_result"
    }
   ],
   "source": [
    "2 * A + 5 * B   # linear combination"
   ]
  },
  {
   "cell_type": "code",
   "execution_count": 15,
   "id": "2da34fa1-345b-4be3-b92a-9fc5beedf0a9",
   "metadata": {},
   "outputs": [
    {
     "data": {
      "text/plain": [
       "array([[ 1,  2],\n",
       "       [-3, -4],\n",
       "       [ 0,  1]])"
      ]
     },
     "execution_count": 15,
     "metadata": {},
     "output_type": "execute_result"
    }
   ],
   "source": [
    "B.T"
   ]
  },
  {
   "cell_type": "code",
   "execution_count": 16,
   "id": "f53d01dc-7034-4bbe-b324-7170620cd1fe",
   "metadata": {},
   "outputs": [
    {
     "data": {
      "text/plain": [
       "(3, 2)"
      ]
     },
     "execution_count": 16,
     "metadata": {},
     "output_type": "execute_result"
    }
   ],
   "source": [
    "B.T.shape"
   ]
  },
  {
   "cell_type": "code",
   "execution_count": 17,
   "id": "d2fd347d-1b06-48c8-8702-2f82be8267c9",
   "metadata": {},
   "outputs": [
    {
     "data": {
      "text/plain": [
       "array([[ -7,  -1],\n",
       "       [-19, -19]])"
      ]
     },
     "execution_count": 17,
     "metadata": {},
     "output_type": "execute_result"
    }
   ],
   "source": [
    "A.dot(B.T)"
   ]
  },
  {
   "cell_type": "code",
   "execution_count": 18,
   "id": "0bbb5f72-2296-460f-bab3-373fc118fef5",
   "metadata": {},
   "outputs": [
    {
     "data": {
      "text/plain": [
       "array([[  2,  -9,   0],\n",
       "       [ 16, -36,   1]])"
      ]
     },
     "execution_count": 18,
     "metadata": {},
     "output_type": "execute_result"
    }
   ],
   "source": [
    "A * B # Hadamard product, element-wise"
   ]
  },
  {
   "cell_type": "code",
   "execution_count": 20,
   "id": "826d0ebb-861b-46d9-b337-26d5ff4655cd",
   "metadata": {},
   "outputs": [
    {
     "data": {
      "text/plain": [
       "array([[ -7,  -1],\n",
       "       [-19, -19]])"
      ]
     },
     "execution_count": 20,
     "metadata": {},
     "output_type": "execute_result"
    }
   ],
   "source": [
    "A @ B.T # @ = dot()"
   ]
  }
 ],
 "metadata": {
  "kernelspec": {
   "display_name": "Python 3 (ipykernel)",
   "language": "python",
   "name": "python3"
  },
  "language_info": {
   "codemirror_mode": {
    "name": "ipython",
    "version": 3
   },
   "file_extension": ".py",
   "mimetype": "text/x-python",
   "name": "python",
   "nbconvert_exporter": "python",
   "pygments_lexer": "ipython3",
   "version": "3.11.7"
  }
 },
 "nbformat": 4,
 "nbformat_minor": 5
}
