{
 "cells": [
  {
   "cell_type": "code",
   "execution_count": 2,
   "id": "fd6358d7-d61a-49ed-a234-884aea8de7bd",
   "metadata": {},
   "outputs": [
    {
     "data": {
      "text/plain": [
       "[0, 1, 2, 3, 4, 5, 6, 7, 8, 9]"
      ]
     },
     "execution_count": 2,
     "metadata": {},
     "output_type": "execute_result"
    }
   ],
   "source": [
    "list(range(10))"
   ]
  },
  {
   "cell_type": "code",
   "execution_count": 3,
   "id": "196a10ba-aff5-4cb2-987a-a445f768417c",
   "metadata": {},
   "outputs": [
    {
     "name": "stdout",
     "output_type": "stream",
     "text": [
      "0\n",
      "1\n",
      "2\n",
      "3\n",
      "4\n",
      "5\n",
      "6\n",
      "7\n",
      "8\n",
      "9\n"
     ]
    }
   ],
   "source": [
    "for i in range(10):\n",
    "    print(i)"
   ]
  },
  {
   "cell_type": "code",
   "execution_count": 5,
   "id": "c82e96c5-127f-42f3-991e-2f3a3f58eca7",
   "metadata": {},
   "outputs": [],
   "source": [
    "def nat():\n",
    "    current_number = 0\n",
    "    while True:\n",
    "        yield current_number\n",
    "        current_number += 1"
   ]
  },
  {
   "cell_type": "code",
   "execution_count": 5,
   "id": "f744fc17-0ea1-41f1-9754-041a5dbb6bd6",
   "metadata": {},
   "outputs": [],
   "source": [
    "numbers = nat()"
   ]
  },
  {
   "cell_type": "code",
   "execution_count": 9,
   "id": "f200f95a-8bbe-469f-996e-cf8f79bc01a4",
   "metadata": {},
   "outputs": [
    {
     "data": {
      "text/plain": [
       "3"
      ]
     },
     "execution_count": 9,
     "metadata": {},
     "output_type": "execute_result"
    }
   ],
   "source": [
    "next(numbers)"
   ]
  },
  {
   "cell_type": "code",
   "execution_count": 10,
   "id": "16f34827-b4f5-46be-a0ba-1bd71eaee791",
   "metadata": {},
   "outputs": [],
   "source": [
    "def factorials():\n",
    "    natural_numbers = nat()\n",
    "    current_number = next(natural_numbers)\n",
    "    result = 1\n",
    "    while True:\n",
    "        yield result\n",
    "        current_number = next(natural_numbers)\n",
    "        result *= current_number"
   ]
  },
  {
   "cell_type": "code",
   "execution_count": 12,
   "id": "2d6a2813-521a-4c9d-85cd-06311d284997",
   "metadata": {},
   "outputs": [
    {
     "name": "stdout",
     "output_type": "stream",
     "text": [
      "0!= 1\n",
      "1!= 1\n",
      "2!= 2\n",
      "3!= 6\n",
      "4!= 24\n",
      "5!= 120\n",
      "6!= 720\n",
      "7!= 5040\n",
      "8!= 40320\n",
      "9!= 362880\n",
      "10!= 3628800\n",
      "11!= 39916800\n",
      "12!= 479001600\n",
      "13!= 6227020800\n",
      "14!= 87178291200\n",
      "15!= 1307674368000\n",
      "16!= 20922789888000\n",
      "17!= 355687428096000\n"
     ]
    }
   ],
   "source": [
    "# Only prints the factorials\n",
    "for n, n_factorial in enumerate(factorials()):  \n",
    "    print(f\"{n}!=\", n_factorial)\n",
    "    if n_factorial >= 100000000000000:\n",
    "        break"
   ]
  },
  {
   "cell_type": "code",
   "execution_count": 22,
   "id": "dde15c92-a57a-4a8a-aca2-ffba34260558",
   "metadata": {},
   "outputs": [],
   "source": [
    "def fibonacci():\n",
    "    a, b = 0, 1\n",
    "\n",
    "    while True:\n",
    "        yield a\n",
    "        a, b = b, a + b"
   ]
  },
  {
   "cell_type": "code",
   "execution_count": 23,
   "id": "c429b034-40a0-4d7a-9f91-51993fadaf06",
   "metadata": {},
   "outputs": [
    {
     "name": "stdout",
     "output_type": "stream",
     "text": [
      "0 1 1 2 3 5 8 13 21 34 55 89 144 233 377 610 987 1597 2584 4181 6765 10946 17711 28657 46368 75025 121393 "
     ]
    }
   ],
   "source": [
    "for fib in fibonacci():\n",
    "    print(fib, end=\" \")\n",
    "    if fib >= 100000:\n",
    "        break"
   ]
  }
 ],
 "metadata": {
  "kernelspec": {
   "display_name": "Python 3 (ipykernel)",
   "language": "python",
   "name": "python3"
  },
  "language_info": {
   "codemirror_mode": {
    "name": "ipython",
    "version": 3
   },
   "file_extension": ".py",
   "mimetype": "text/x-python",
   "name": "python",
   "nbconvert_exporter": "python",
   "pygments_lexer": "ipython3",
   "version": "3.11.7"
  }
 },
 "nbformat": 4,
 "nbformat_minor": 5
}
