{
 "cells": [
  {
   "cell_type": "code",
   "execution_count": 2,
   "id": "fd6358d7-d61a-49ed-a234-884aea8de7bd",
   "metadata": {},
   "outputs": [
    {
     "data": {
      "text/plain": [
       "[0, 1, 2, 3, 4, 5, 6, 7, 8, 9]"
      ]
     },
     "execution_count": 2,
     "metadata": {},
     "output_type": "execute_result"
    }
   ],
   "source": [
    "list(range(10))"
   ]
  },
  {
   "cell_type": "code",
   "execution_count": 3,
   "id": "196a10ba-aff5-4cb2-987a-a445f768417c",
   "metadata": {},
   "outputs": [
    {
     "name": "stdout",
     "output_type": "stream",
     "text": [
      "0\n",
      "1\n",
      "2\n",
      "3\n",
      "4\n",
      "5\n",
      "6\n",
      "7\n",
      "8\n",
      "9\n"
     ]
    }
   ],
   "source": [
    "for i in range(10):\n",
    "    print(i)"
   ]
  },
  {
   "cell_type": "code",
   "execution_count": 4,
   "id": "c82e96c5-127f-42f3-991e-2f3a3f58eca7",
   "metadata": {},
   "outputs": [],
   "source": [
    "def nat():\n",
    "    current_number = 0\n",
    "    while True:\n",
    "        yield current_number\n",
    "        current_number += 1"
   ]
  },
  {
   "cell_type": "code",
   "execution_count": 5,
   "id": "f744fc17-0ea1-41f1-9754-041a5dbb6bd6",
   "metadata": {},
   "outputs": [],
   "source": [
    "numbers = nat()"
   ]
  },
  {
   "cell_type": "code",
   "execution_count": 9,
   "id": "f200f95a-8bbe-469f-996e-cf8f79bc01a4",
   "metadata": {},
   "outputs": [
    {
     "data": {
      "text/plain": [
       "3"
      ]
     },
     "execution_count": 9,
     "metadata": {},
     "output_type": "execute_result"
    }
   ],
   "source": [
    "next(numbers)"
   ]
  },
  {
   "cell_type": "code",
   "execution_count": null,
   "id": "16f34827-b4f5-46be-a0ba-1bd71eaee791",
   "metadata": {},
   "outputs": [],
   "source": [
    "def fibonacci():\n",
    "    a = 0\n",
    "    b = 1\n",
    "    \n",
    "    while True:\n",
    "        yield a\n",
    "        a_temp = a\n",
    "        b = a_temp + "
   ]
  },
  {
   "cell_type": "code",
   "execution_count": null,
   "id": "2d6a2813-521a-4c9d-85cd-06311d284997",
   "metadata": {},
   "outputs": [],
   "source": []
  }
 ],
 "metadata": {
  "kernelspec": {
   "display_name": "Python 3 (ipykernel)",
   "language": "python",
   "name": "python3"
  },
  "language_info": {
   "codemirror_mode": {
    "name": "ipython",
    "version": 3
   },
   "file_extension": ".py",
   "mimetype": "text/x-python",
   "name": "python",
   "nbconvert_exporter": "python",
   "pygments_lexer": "ipython3",
   "version": "3.9.12"
  }
 },
 "nbformat": 4,
 "nbformat_minor": 5
}
