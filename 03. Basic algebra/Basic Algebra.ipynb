{
 "cells": [
  {
   "cell_type": "code",
   "execution_count": 1,
   "id": "6cf22a84-be8a-4a12-865c-c12cb7938ea3",
   "metadata": {},
   "outputs": [],
   "source": [
    "import numpy as np\n",
    "from numpy.polynomial import Polynomial"
   ]
  },
  {
   "cell_type": "code",
   "execution_count": 2,
   "id": "0d262d44-ecc9-4750-9f22-d01da4e51f99",
   "metadata": {},
   "outputs": [
    {
     "data": {
      "text/latex": [
       "$x \\mapsto \\text{1.0} + \\text{2.0}\\,x + \\text{3.0}\\,x^{2}$"
      ],
      "text/plain": [
       "Polynomial([1., 2., 3.], domain=[-1,  1], window=[-1,  1])"
      ]
     },
     "execution_count": 2,
     "metadata": {},
     "output_type": "execute_result"
    }
   ],
   "source": [
    "Polynomial([1, 2, 3])  # represents 1 + 2x + 3x^2"
   ]
  },
  {
   "cell_type": "code",
   "execution_count": 3,
   "id": "b3973e0a-d14c-43ff-9f99-a813e223df03",
   "metadata": {},
   "outputs": [],
   "source": [
    "p1 = Polynomial([-8, 5, 2])\n",
    "p2 = Polynomial([-2, 0, 0, 0, 3])"
   ]
  },
  {
   "cell_type": "code",
   "execution_count": 4,
   "id": "c98d67a9-f574-4fa3-829b-95893f3a9751",
   "metadata": {},
   "outputs": [
    {
     "data": {
      "text/latex": [
       "$x \\mapsto \\text{-8.0} + \\text{5.0}\\,x + \\text{2.0}\\,x^{2}$"
      ],
      "text/plain": [
       "Polynomial([-8.,  5.,  2.], domain=[-1,  1], window=[-1,  1])"
      ]
     },
     "execution_count": 4,
     "metadata": {},
     "output_type": "execute_result"
    }
   ],
   "source": [
    "p1"
   ]
  },
  {
   "cell_type": "code",
   "execution_count": 5,
   "id": "2d868b56-b406-41c9-8201-b07b94d373ca",
   "metadata": {},
   "outputs": [
    {
     "name": "stdout",
     "output_type": "stream",
     "text": [
      "   2\n",
      "1 x + 2 x + 3\n"
     ]
    }
   ],
   "source": [
    "print(np.poly1d([1, 2, 3]))"
   ]
  },
  {
   "cell_type": "code",
   "execution_count": 6,
   "id": "26013e28-1335-43b1-a314-23b67c897b65",
   "metadata": {},
   "outputs": [
    {
     "data": {
      "text/plain": [
       "-8"
      ]
     },
     "execution_count": 6,
     "metadata": {},
     "output_type": "execute_result"
    }
   ],
   "source": [
    "# 0 1 2 indexes\n",
    "[-8, 5, 2][0]"
   ]
  },
  {
   "cell_type": "code",
   "execution_count": 7,
   "id": "9a695994-f5ab-4f00-b681-c54818465435",
   "metadata": {},
   "outputs": [
    {
     "name": "stdout",
     "output_type": "stream",
     "text": [
      "-2.0 + 0.0 x**1 + 0.0 x**2 + 0.0 x**3 + 3.0 x**4\n"
     ]
    }
   ],
   "source": [
    "print(p2)"
   ]
  },
  {
   "cell_type": "code",
   "execution_count": 8,
   "id": "10c35fb6-efdd-44af-8df6-ad2ef7356ab9",
   "metadata": {},
   "outputs": [
    {
     "data": {
      "text/plain": [
       "array([-2.,  0.,  0.,  0.,  3.])"
      ]
     },
     "execution_count": 8,
     "metadata": {},
     "output_type": "execute_result"
    }
   ],
   "source": [
    "p2.coef"
   ]
  },
  {
   "cell_type": "code",
   "execution_count": 9,
   "id": "22666899-979d-4e4d-9bc2-9e47581ecd74",
   "metadata": {},
   "outputs": [
    {
     "name": "stdout",
     "output_type": "stream",
     "text": [
      "-10.0 + 5.0 x**1 + 2.0 x**2 + 0.0 x**3 + 3.0 x**4\n"
     ]
    }
   ],
   "source": [
    "print(p1 + p2)"
   ]
  },
  {
   "cell_type": "code",
   "execution_count": 10,
   "id": "a0f0a045-a01e-4be8-ae0a-c9573cc8c022",
   "metadata": {},
   "outputs": [
    {
     "name": "stdout",
     "output_type": "stream",
     "text": [
      "-16.0 + 10.0 x**1 + 4.0 x**2\n"
     ]
    }
   ],
   "source": [
    "print(2 * p1)"
   ]
  },
  {
   "cell_type": "code",
   "execution_count": 11,
   "id": "9a11f68e-d89a-4656-a4ea-fd05a2c43fba",
   "metadata": {},
   "outputs": [
    {
     "name": "stdout",
     "output_type": "stream",
     "text": [
      "16.0 - 10.0 x**1 - 4.0 x**2 + 0.0 x**3 - 24.0 x**4 + 15.0 x**5 + 6.0 x**6\n"
     ]
    }
   ],
   "source": [
    "print(p1 * p2)"
   ]
  },
  {
   "cell_type": "code",
   "execution_count": 12,
   "id": "96b38b56-87c6-43f1-b3db-272e52a438a1",
   "metadata": {},
   "outputs": [
    {
     "data": {
      "text/plain": [
       "array([-3.60849528,  1.10849528])"
      ]
     },
     "execution_count": 12,
     "metadata": {},
     "output_type": "execute_result"
    }
   ],
   "source": [
    "p1.roots()"
   ]
  },
  {
   "cell_type": "code",
   "execution_count": 13,
   "id": "c7bdaabd-7978-423a-8690-4cdc37188966",
   "metadata": {},
   "outputs": [
    {
     "data": {
      "text/plain": [
       "['__abstractmethods__',\n",
       " '__add__',\n",
       " '__array_ufunc__',\n",
       " '__call__',\n",
       " '__class__',\n",
       " '__delattr__',\n",
       " '__dict__',\n",
       " '__dir__',\n",
       " '__divmod__',\n",
       " '__doc__',\n",
       " '__eq__',\n",
       " '__floordiv__',\n",
       " '__format__',\n",
       " '__ge__',\n",
       " '__getattribute__',\n",
       " '__getstate__',\n",
       " '__gt__',\n",
       " '__hash__',\n",
       " '__init__',\n",
       " '__init_subclass__',\n",
       " '__iter__',\n",
       " '__le__',\n",
       " '__len__',\n",
       " '__lt__',\n",
       " '__mod__',\n",
       " '__module__',\n",
       " '__mul__',\n",
       " '__ne__',\n",
       " '__neg__',\n",
       " '__new__',\n",
       " '__pos__',\n",
       " '__pow__',\n",
       " '__radd__',\n",
       " '__rdiv__',\n",
       " '__rdivmod__',\n",
       " '__reduce__',\n",
       " '__reduce_ex__',\n",
       " '__repr__',\n",
       " '__rfloordiv__',\n",
       " '__rmod__',\n",
       " '__rmul__',\n",
       " '__rsub__',\n",
       " '__rtruediv__',\n",
       " '__setattr__',\n",
       " '__setstate__',\n",
       " '__sizeof__',\n",
       " '__slots__',\n",
       " '__str__',\n",
       " '__sub__',\n",
       " '__subclasshook__',\n",
       " '__truediv__',\n",
       " '__weakref__',\n",
       " '_abc_impl',\n",
       " '_add',\n",
       " '_der',\n",
       " '_div',\n",
       " '_fit',\n",
       " '_fromroots',\n",
       " '_generate_string',\n",
       " '_get_coefficients',\n",
       " '_int',\n",
       " '_line',\n",
       " '_mul',\n",
       " '_pow',\n",
       " '_repr_latex_',\n",
       " '_repr_latex_scalar',\n",
       " '_repr_latex_term',\n",
       " '_roots',\n",
       " '_str_term_ascii',\n",
       " '_str_term_unicode',\n",
       " '_sub',\n",
       " '_subscript_mapping',\n",
       " '_superscript_mapping',\n",
       " '_use_unicode',\n",
       " '_val',\n",
       " 'basis',\n",
       " 'basis_name',\n",
       " 'cast',\n",
       " 'coef',\n",
       " 'convert',\n",
       " 'copy',\n",
       " 'cutdeg',\n",
       " 'degree',\n",
       " 'deriv',\n",
       " 'domain',\n",
       " 'fit',\n",
       " 'fromroots',\n",
       " 'has_samecoef',\n",
       " 'has_samedomain',\n",
       " 'has_sametype',\n",
       " 'has_samewindow',\n",
       " 'identity',\n",
       " 'integ',\n",
       " 'linspace',\n",
       " 'mapparms',\n",
       " 'maxpower',\n",
       " 'roots',\n",
       " 'trim',\n",
       " 'truncate',\n",
       " 'window']"
      ]
     },
     "execution_count": 13,
     "metadata": {},
     "output_type": "execute_result"
    }
   ],
   "source": [
    "dir(p1)  # Functions which have the Polynomial"
   ]
  },
  {
   "cell_type": "code",
   "execution_count": 14,
   "id": "4981e086-a0a6-4ab9-b313-984d6e9596e8",
   "metadata": {},
   "outputs": [],
   "source": [
    "my_list = [-8, 5, 2, \"SoftUni\", True, Polynomial([2, 3])]"
   ]
  },
  {
   "cell_type": "code",
   "execution_count": 15,
   "id": "85cab21c-e5fd-4008-a2e8-0a73203403e4",
   "metadata": {},
   "outputs": [
    {
     "name": "stdout",
     "output_type": "stream",
     "text": [
      "[-8, 5, 2, 'SoftUni', True, Polynomial([2., 3.], domain=[-1,  1], window=[-1,  1])]\n"
     ]
    }
   ],
   "source": [
    "print(my_list)"
   ]
  },
  {
   "cell_type": "code",
   "execution_count": 16,
   "id": "bb50216c-c15e-49f1-821d-7f10189441e5",
   "metadata": {},
   "outputs": [
    {
     "data": {
      "text/plain": [
       "'SoftUni'"
      ]
     },
     "execution_count": 16,
     "metadata": {},
     "output_type": "execute_result"
    }
   ],
   "source": [
    "my_list[3]"
   ]
  },
  {
   "cell_type": "code",
   "execution_count": 23,
   "id": "4b3d385f-b0b1-4c54-b8b0-047197286fdf",
   "metadata": {},
   "outputs": [
    {
     "data": {
      "text/plain": [
       "array(['1', '2', '3', 'True', 'SoftUni'], dtype='<U11')"
      ]
     },
     "execution_count": 23,
     "metadata": {},
     "output_type": "execute_result"
    }
   ],
   "source": [
    "np.array([1, 2, 3, True, 'SoftUni'])"
   ]
  },
  {
   "cell_type": "code",
   "execution_count": 24,
   "id": "1b4754d3-983e-4d1c-a100-86114e0e92e8",
   "metadata": {},
   "outputs": [
    {
     "data": {
      "text/plain": [
       "dtype('<U11')"
      ]
     },
     "execution_count": 24,
     "metadata": {},
     "output_type": "execute_result"
    }
   ],
   "source": [
    "np.array([1, 2, 3, True, 'SoftUni']).dtype"
   ]
  },
  {
   "cell_type": "code",
   "execution_count": 26,
   "id": "69416880-8847-4d28-b884-783a9d49d994",
   "metadata": {},
   "outputs": [],
   "source": [
    "my_set = set([1, 2, 1, 3, 1])"
   ]
  },
  {
   "cell_type": "code",
   "execution_count": 27,
   "id": "f209785b-7462-484c-a33e-84f01b77bde4",
   "metadata": {},
   "outputs": [
    {
     "name": "stdout",
     "output_type": "stream",
     "text": [
      "{1, 2, 3}\n"
     ]
    }
   ],
   "source": [
    "print(my_set)"
   ]
  },
  {
   "cell_type": "code",
   "execution_count": 28,
   "id": "846ee69b-3962-4be7-9d61-8a06bf74776d",
   "metadata": {},
   "outputs": [
    {
     "data": {
      "text/plain": [
       "True"
      ]
     },
     "execution_count": 28,
     "metadata": {},
     "output_type": "execute_result"
    }
   ],
   "source": [
    "2 in my_set  # O(1)"
   ]
  },
  {
   "cell_type": "code",
   "execution_count": 29,
   "id": "77e01777-7950-4db0-bab7-54cd61662a8a",
   "metadata": {},
   "outputs": [
    {
     "data": {
      "text/plain": [
       "True"
      ]
     },
     "execution_count": 29,
     "metadata": {},
     "output_type": "execute_result"
    }
   ],
   "source": [
    "2 in [1, 2, 3, 4] # O(n)"
   ]
  },
  {
   "cell_type": "code",
   "execution_count": 30,
   "id": "40111bac-6eed-4eb0-8bee-34d69678dd5a",
   "metadata": {},
   "outputs": [
    {
     "data": {
      "text/plain": [
       "{-10, -9, -8, -7, -6, -5, -4, -3, -2, -1, 0, 1, 2, 3, 4, 5, 6, 7, 8, 9, 10}"
      ]
     },
     "execution_count": 30,
     "metadata": {},
     "output_type": "execute_result"
    }
   ],
   "source": [
    "set(range(-10, 11))"
   ]
  },
  {
   "cell_type": "code",
   "execution_count": 33,
   "id": "d7f29586-2167-4d26-bdf2-6a087ccc27de",
   "metadata": {},
   "outputs": [
    {
     "data": {
      "text/plain": [
       "{0, 1, 2, 3, 4, 5, 6, 7, 8, 9, 10}"
      ]
     },
     "execution_count": 33,
     "metadata": {},
     "output_type": "execute_result"
    }
   ],
   "source": [
    "{x for x in range(-10, 11) if x >= 0}"
   ]
  },
  {
   "cell_type": "code",
   "execution_count": 34,
   "id": "f14e8e05-b990-4584-8c00-cad23424daf1",
   "metadata": {},
   "outputs": [
    {
     "data": {
      "text/plain": [
       "{100, 101, 102, 103, 104, 105, 106, 107, 108, 109, 110}"
      ]
     },
     "execution_count": 34,
     "metadata": {},
     "output_type": "execute_result"
    }
   ],
   "source": [
    "{x + 100 for x in range(-10, 11) if x >= 0}"
   ]
  },
  {
   "cell_type": "code",
   "execution_count": 35,
   "id": "1100ea07-35fa-41b1-8521-6cab60bd1772",
   "metadata": {},
   "outputs": [
    {
     "data": {
      "text/plain": [
       "{0, 1, 4, 9, 16, 25, 36, 49, 64, 81, 100}"
      ]
     },
     "execution_count": 35,
     "metadata": {},
     "output_type": "execute_result"
    }
   ],
   "source": [
    "{x ** 2 for x in range(-10, 11) if x >= 0}"
   ]
  },
  {
   "cell_type": "code",
   "execution_count": 37,
   "id": "feed9c50-a048-42e7-ae39-67f010bbe63d",
   "metadata": {},
   "outputs": [
    {
     "data": {
      "text/plain": [
       "{0, 1, 4, 9, 16, 25, 36, 49, 64}"
      ]
     },
     "execution_count": 37,
     "metadata": {},
     "output_type": "execute_result"
    }
   ],
   "source": [
    "{x ** 2 for x in range(-10, 11) if x >= 0 and x <= 8}"
   ]
  },
  {
   "cell_type": "code",
   "execution_count": 39,
   "id": "63bc0964-ea69-41f6-93ea-8f1a4f838658",
   "metadata": {},
   "outputs": [],
   "source": [
    "names = {\"Alise\", \"Galka\", \"Bob\", \"Charlie\"}"
   ]
  },
  {
   "cell_type": "code",
   "execution_count": 40,
   "id": "0e0d5a95-54d5-4200-a99d-781422738d98",
   "metadata": {},
   "outputs": [
    {
     "data": {
      "text/plain": [
       "True"
      ]
     },
     "execution_count": 40,
     "metadata": {},
     "output_type": "execute_result"
    }
   ],
   "source": [
    "names == { \"Bob\", \"Galka\", \"Alise\",  \"Charlie\"}"
   ]
  },
  {
   "cell_type": "code",
   "execution_count": 41,
   "id": "12a40fcd-65eb-4e01-badf-f61e2f915c18",
   "metadata": {},
   "outputs": [
    {
     "data": {
      "text/plain": [
       "False"
      ]
     },
     "execution_count": 41,
     "metadata": {},
     "output_type": "execute_result"
    }
   ],
   "source": [
    "[\"Alis\", \"Bob\"] == [\"Alise\", \"Bob\"]"
   ]
  }
 ],
 "metadata": {
  "kernelspec": {
   "display_name": "Python 3 (ipykernel)",
   "language": "python",
   "name": "python3"
  },
  "language_info": {
   "codemirror_mode": {
    "name": "ipython",
    "version": 3
   },
   "file_extension": ".py",
   "mimetype": "text/x-python",
   "name": "python",
   "nbconvert_exporter": "python",
   "pygments_lexer": "ipython3",
   "version": "3.9.12"
  },
  "toc-autonumbering": true,
  "toc-showcode": false
 },
 "nbformat": 4,
 "nbformat_minor": 5
}
