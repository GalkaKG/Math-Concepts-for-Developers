{
 "cells": [
  {
   "cell_type": "code",
   "execution_count": 1,
   "id": "6cf22a84-be8a-4a12-865c-c12cb7938ea3",
   "metadata": {},
   "outputs": [],
   "source": [
    "import numpy as np\n",
    "from numpy.polynomial import Polynomial"
   ]
  },
  {
   "cell_type": "code",
   "execution_count": 20,
   "id": "0d262d44-ecc9-4750-9f22-d01da4e51f99",
   "metadata": {},
   "outputs": [
    {
     "data": {
      "text/latex": [
       "$x \\mapsto \\text{1.0} + \\text{2.0}\\,x + \\text{3.0}\\,x^{2}$"
      ],
      "text/plain": [
       "Polynomial([1., 2., 3.], domain=[-1,  1], window=[-1,  1])"
      ]
     },
     "execution_count": 20,
     "metadata": {},
     "output_type": "execute_result"
    }
   ],
   "source": [
    "Polynomial([1, 2, 3])  # represents 1 + 2x + 3x^2"
   ]
  },
  {
   "cell_type": "code",
   "execution_count": 21,
   "id": "b3973e0a-d14c-43ff-9f99-a813e223df03",
   "metadata": {},
   "outputs": [],
   "source": [
    "p1 = Polynomial([-8, 5, 2])\n",
    "p2 = Polynomial([-2, 0, 0, 0, 3])"
   ]
  },
  {
   "cell_type": "code",
   "execution_count": 18,
   "id": "c98d67a9-f574-4fa3-829b-95893f3a9751",
   "metadata": {},
   "outputs": [
    {
     "data": {
      "text/latex": [
       "$x \\mapsto \\text{-8.0} + \\text{5.0}\\,x + \\text{2.0}\\,x^{2}$"
      ],
      "text/plain": [
       "Polynomial([-8.,  5.,  2.], domain=[-1,  1], window=[-1,  1])"
      ]
     },
     "execution_count": 18,
     "metadata": {},
     "output_type": "execute_result"
    }
   ],
   "source": [
    "p1"
   ]
  },
  {
   "cell_type": "code",
   "execution_count": 19,
   "id": "2d868b56-b406-41c9-8201-b07b94d373ca",
   "metadata": {},
   "outputs": [
    {
     "name": "stdout",
     "output_type": "stream",
     "text": [
      "   2\n",
      "1 x + 2 x + 3\n"
     ]
    }
   ],
   "source": [
    "print(np.poly1d([1, 2, 3]))"
   ]
  },
  {
   "cell_type": "code",
   "execution_count": 4,
   "id": "26013e28-1335-43b1-a314-23b67c897b65",
   "metadata": {},
   "outputs": [
    {
     "data": {
      "text/plain": [
       "-8"
      ]
     },
     "execution_count": 4,
     "metadata": {},
     "output_type": "execute_result"
    }
   ],
   "source": [
    "# 0 1 2 indexes\n",
    "[-8, 5, 2][0]"
   ]
  },
  {
   "cell_type": "code",
   "execution_count": 5,
   "id": "9a695994-f5ab-4f00-b681-c54818465435",
   "metadata": {},
   "outputs": [
    {
     "name": "stdout",
     "output_type": "stream",
     "text": [
      "-2.0 + 0.0 x**1 + 0.0 x**2 + 0.0 x**3 + 3.0 x**4\n"
     ]
    }
   ],
   "source": [
    "print(p2)"
   ]
  },
  {
   "cell_type": "code",
   "execution_count": 6,
   "id": "10c35fb6-efdd-44af-8df6-ad2ef7356ab9",
   "metadata": {},
   "outputs": [
    {
     "data": {
      "text/plain": [
       "array([-2.,  0.,  0.,  0.,  3.])"
      ]
     },
     "execution_count": 6,
     "metadata": {},
     "output_type": "execute_result"
    }
   ],
   "source": [
    "p2.coef"
   ]
  },
  {
   "cell_type": "code",
   "execution_count": 7,
   "id": "22666899-979d-4e4d-9bc2-9e47581ecd74",
   "metadata": {},
   "outputs": [
    {
     "name": "stdout",
     "output_type": "stream",
     "text": [
      "-1.0 + 2.0 x**1 + 3.0 x**2 + 0.0 x**3 + 3.0 x**4\n"
     ]
    }
   ],
   "source": [
    "print(p1 + p2)"
   ]
  },
  {
   "cell_type": "code",
   "execution_count": 8,
   "id": "a0f0a045-a01e-4be8-ae0a-c9573cc8c022",
   "metadata": {},
   "outputs": [
    {
     "name": "stdout",
     "output_type": "stream",
     "text": [
      "2.0 + 4.0 x**1 + 6.0 x**2\n"
     ]
    }
   ],
   "source": [
    "print(2 * p1)"
   ]
  },
  {
   "cell_type": "code",
   "execution_count": 9,
   "id": "9a11f68e-d89a-4656-a4ea-fd05a2c43fba",
   "metadata": {},
   "outputs": [
    {
     "name": "stdout",
     "output_type": "stream",
     "text": [
      "-2.0 - 4.0 x**1 - 6.0 x**2 + 0.0 x**3 + 3.0 x**4 + 6.0 x**5 + 9.0 x**6\n"
     ]
    }
   ],
   "source": [
    "print(p1 * p2)"
   ]
  },
  {
   "cell_type": "code",
   "execution_count": 10,
   "id": "96b38b56-87c6-43f1-b3db-272e52a438a1",
   "metadata": {},
   "outputs": [
    {
     "data": {
      "text/plain": [
       "array([-0.33333333-0.47140452j, -0.33333333+0.47140452j])"
      ]
     },
     "execution_count": 10,
     "metadata": {},
     "output_type": "execute_result"
    }
   ],
   "source": [
    "p1.roots()"
   ]
  },
  {
   "cell_type": "code",
   "execution_count": 12,
   "id": "4981e086-a0a6-4ab9-b313-984d6e9596e8",
   "metadata": {},
   "outputs": [],
   "source": [
    "my_list = [-8, 5, 2, \"SoftUni\", True, Polynomial([2, 3])]"
   ]
  },
  {
   "cell_type": "code",
   "execution_count": 13,
   "id": "85cab21c-e5fd-4008-a2e8-0a73203403e4",
   "metadata": {},
   "outputs": [
    {
     "name": "stdout",
     "output_type": "stream",
     "text": [
      "[-8, 5, 2, 'SoftUni', True, Polynomial([2., 3.], domain=[-1,  1], window=[-1,  1])]\n"
     ]
    }
   ],
   "source": [
    "print(my_list)"
   ]
  },
  {
   "cell_type": "code",
   "execution_count": 14,
   "id": "bb50216c-c15e-49f1-821d-7f10189441e5",
   "metadata": {},
   "outputs": [
    {
     "data": {
      "text/plain": [
       "'SoftUni'"
      ]
     },
     "execution_count": 14,
     "metadata": {},
     "output_type": "execute_result"
    }
   ],
   "source": [
    "my_list[3]"
   ]
  }
 ],
 "metadata": {
  "kernelspec": {
   "display_name": "Python 3 (ipykernel)",
   "language": "python",
   "name": "python3"
  },
  "language_info": {
   "codemirror_mode": {
    "name": "ipython",
    "version": 3
   },
   "file_extension": ".py",
   "mimetype": "text/x-python",
   "name": "python",
   "nbconvert_exporter": "python",
   "pygments_lexer": "ipython3",
   "version": "3.9.12"
  }
 },
 "nbformat": 4,
 "nbformat_minor": 5
}
