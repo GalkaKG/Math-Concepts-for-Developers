{
 "cells": [
  {
   "cell_type": "markdown",
   "id": "d3284ac2-97e2-4171-be66-3dc50efd9baf",
   "metadata": {},
   "source": [
    "# High-School Maths\n",
    "## Live Demos\n",
    "\n",
    "Hello World! This is my first try at writing Markdown!"
   ]
  },
  {
   "cell_type": "code",
   "execution_count": null,
   "id": "cd774fdd-8cc1-45df-ab0b-8d842041f2be",
   "metadata": {
    "tags": []
   },
   "outputs": [],
   "source": []
  },
  {
   "cell_type": "code",
   "execution_count": null,
   "id": "3f81a2bb-42ac-4ccc-bede-21bdc6969655",
   "metadata": {},
   "outputs": [],
   "source": []
  },
  {
   "cell_type": "markdown",
   "id": "b4103c8b-0729-44fe-a71f-beed6902ca48",
   "metadata": {},
   "source": []
  }
 ],
 "metadata": {
  "kernelspec": {
   "display_name": "Python 3 (ipykernel)",
   "language": "python",
   "name": "python3"
  },
  "language_info": {
   "codemirror_mode": {
    "name": "ipython",
    "version": 3
   },
   "file_extension": ".py",
   "mimetype": "text/x-python",
   "name": "python",
   "nbconvert_exporter": "python",
   "pygments_lexer": "ipython3",
   "version": "3.9.12"
  }
 },
 "nbformat": 4,
 "nbformat_minor": 5
}
