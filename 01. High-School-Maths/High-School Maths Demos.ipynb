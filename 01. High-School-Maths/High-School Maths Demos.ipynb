{
 "cells": [
  {
   "cell_type": "markdown",
   "id": "d3284ac2-97e2-4171-be66-3dc50efd9baf",
   "metadata": {},
   "source": [
    "# High-School Maths\n",
    "## Live Demos\n",
    "\n",
    "Hello World! This is my first try at writing Markdown!\n",
    "\n",
    "\n",
    "Here is some maths:\n",
    "$$ y = ax + b $$"
   ]
  },
  {
   "cell_type": "code",
   "execution_count": 2,
   "id": "ad6eeebc-3c08-4704-a786-390c6c4bbe8b",
   "metadata": {
    "tags": []
   },
   "outputs": [
    {
     "name": "stdout",
     "output_type": "stream",
     "text": [
      "7\n"
     ]
    }
   ],
   "source": [
    "print(7)"
   ]
  },
  {
   "cell_type": "code",
   "execution_count": 3,
   "id": "3f81a2bb-42ac-4ccc-bede-21bdc6969655",
   "metadata": {},
   "outputs": [
    {
     "data": {
      "text/plain": [
       "13"
      ]
     },
     "execution_count": 3,
     "metadata": {},
     "output_type": "execute_result"
    }
   ],
   "source": [
    "3 + 5 * 2"
   ]
  },
  {
   "cell_type": "code",
   "execution_count": 4,
   "id": "41292d13-ec90-4787-b107-016c5d2dcb19",
   "metadata": {},
   "outputs": [
    {
     "data": {
      "text/plain": [
       "7"
      ]
     },
     "execution_count": 4,
     "metadata": {},
     "output_type": "execute_result"
    }
   ],
   "source": [
    "2 ^ 5 # 2 XOR 5"
   ]
  },
  {
   "cell_type": "code",
   "execution_count": 5,
   "id": "9d76e027-9109-4232-9c76-cc8240569a09",
   "metadata": {},
   "outputs": [
    {
     "data": {
      "text/plain": [
       "32"
      ]
     },
     "execution_count": 5,
     "metadata": {},
     "output_type": "execute_result"
    }
   ],
   "source": [
    "2 ** 5 # 2 to the power of 5"
   ]
  },
  {
   "cell_type": "code",
   "execution_count": 7,
   "id": "d1d10d3a-27ef-438c-90dd-58eb0c013de5",
   "metadata": {},
   "outputs": [
    {
     "data": {
      "text/plain": [
       "[1, 2, 3]"
      ]
     },
     "execution_count": 7,
     "metadata": {},
     "output_type": "execute_result"
    }
   ],
   "source": [
    "[1, 2, 3]"
   ]
  },
  {
   "cell_type": "code",
   "execution_count": 13,
   "id": "4d85025e-1d76-4414-99d4-b927905756fd",
   "metadata": {},
   "outputs": [
    {
     "data": {
      "text/plain": [
       "[1, 2, 3, 4]"
      ]
     },
     "execution_count": 13,
     "metadata": {},
     "output_type": "execute_result"
    }
   ],
   "source": [
    "[1, 2, 3] + [4]"
   ]
  },
  {
   "cell_type": "markdown",
   "id": "8ed3ac53-8638-46bc-919c-e268e1f98506",
   "metadata": {},
   "source": [
    "## Another subheading\n",
    "### Section 1\n",
    "Here is some more text. Here is some more text. Here is some more text. Here is some more text. Here is some more text. Here is some more text. Here is some more text. Here is some more text. Here is some more text. Here is some more text. Here is some more text. Here is some more text. Here is some more text. Here is some more text. "
   ]
  },
  {
   "cell_type": "markdown",
   "id": "e952e6f4-3eb1-4b32-9a6d-fafdaed57e5e",
   "metadata": {},
   "source": [
    "### Section 2\n",
    "Here is some more text. Here is some more text. Here is some more text. Here is some more text. Here is some more text. Here is some more text. Here is some more text. Here is some more text. Here is some more text. Here is some more text. Here is some more text. Here is some more text. Here is some more text. Here is some more text. "
   ]
  },
  {
   "cell_type": "markdown",
   "id": "c4a6b64e-02a2-44df-8cfe-5247ae6af536",
   "metadata": {},
   "source": []
  },
  {
   "cell_type": "code",
   "execution_count": 15,
   "id": "9dbed46a-e02b-46cb-9297-1d1d549de7ed",
   "metadata": {},
   "outputs": [],
   "source": [
    "a = 5"
   ]
  },
  {
   "cell_type": "code",
   "execution_count": 20,
   "id": "fe468441-712c-4b1b-952c-b3f592c54d83",
   "metadata": {},
   "outputs": [],
   "source": [
    "def solve_linear_equation(a, b):\n",
    "    if a == 0:\n",
    "        return [] \n",
    "    else: \n",
    "        return -b / a"
   ]
  },
  {
   "cell_type": "code",
   "execution_count": 21,
   "id": "b885339c-b9a0-48be-a5e1-44d357aaa39c",
   "metadata": {},
   "outputs": [
    {
     "name": "stdout",
     "output_type": "stream",
     "text": [
      "[]\n",
      "[]\n",
      "0.0\n",
      "-1.0\n",
      "2.12\n"
     ]
    }
   ],
   "source": [
    "print(solve_linear_equation(0, 0)) # []\n",
    "print(solve_linear_equation(0, 5)) # []\n",
    "print(solve_linear_equation(5, 0)) # 0.0\n",
    "print(solve_linear_equation(5, 5)) # -1.0\n",
    "print(solve_linear_equation(2.5, -5.3)) # 2.12"
   ]
  }
 ],
 "metadata": {
  "kernelspec": {
   "display_name": "Python 3 (ipykernel)",
   "language": "python",
   "name": "python3"
  },
  "language_info": {
   "codemirror_mode": {
    "name": "ipython",
    "version": 3
   },
   "file_extension": ".py",
   "mimetype": "text/x-python",
   "name": "python",
   "nbconvert_exporter": "python",
   "pygments_lexer": "ipython3",
   "version": "3.9.12"
  }
 },
 "nbformat": 4,
 "nbformat_minor": 5
}
