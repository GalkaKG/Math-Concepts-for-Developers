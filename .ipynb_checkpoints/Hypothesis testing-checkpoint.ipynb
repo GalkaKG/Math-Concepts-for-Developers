{
 "cells": [
  {
   "cell_type": "code",
   "execution_count": 1,
   "id": "d509fa09-552b-46fd-af9c-a66d9f3a57d7",
   "metadata": {},
   "outputs": [],
   "source": [
    "%matplotlib inline"
   ]
  },
  {
   "cell_type": "code",
   "execution_count": 2,
   "id": "808713df-95ce-46b8-a699-04d5957dde0a",
   "metadata": {},
   "outputs": [],
   "source": [
    "import numpy as np\n",
    "import pandas as pd\n",
    "import matplotlib.pyplot as plt\n",
    "from scipy.stats import norm"
   ]
  },
  {
   "cell_type": "markdown",
   "id": "46f68f1b-3853-4c8c-8735-80779e826100",
   "metadata": {},
   "source": [
    "# Hypothesis Testing\n",
    "\n",
    "## Live Demos"
   ]
  },
  {
   "cell_type": "code",
   "execution_count": 3,
   "id": "243fefab-5532-4978-a5ba-35035b2c9842",
   "metadata": {},
   "outputs": [
    {
     "data": {
      "text/html": [
       "<div>\n",
       "<style scoped>\n",
       "    .dataframe tbody tr th:only-of-type {\n",
       "        vertical-align: middle;\n",
       "    }\n",
       "\n",
       "    .dataframe tbody tr th {\n",
       "        vertical-align: top;\n",
       "    }\n",
       "\n",
       "    .dataframe thead th {\n",
       "        text-align: right;\n",
       "    }\n",
       "</style>\n",
       "<table border=\"1\" class=\"dataframe\">\n",
       "  <thead>\n",
       "    <tr style=\"text-align: right;\">\n",
       "      <th></th>\n",
       "      <th>Height</th>\n",
       "    </tr>\n",
       "  </thead>\n",
       "  <tbody>\n",
       "    <tr>\n",
       "      <th>0</th>\n",
       "      <td>156</td>\n",
       "    </tr>\n",
       "    <tr>\n",
       "      <th>1</th>\n",
       "      <td>163</td>\n",
       "    </tr>\n",
       "    <tr>\n",
       "      <th>2</th>\n",
       "      <td>169</td>\n",
       "    </tr>\n",
       "    <tr>\n",
       "      <th>3</th>\n",
       "      <td>161</td>\n",
       "    </tr>\n",
       "    <tr>\n",
       "      <th>4</th>\n",
       "      <td>154</td>\n",
       "    </tr>\n",
       "    <tr>\n",
       "      <th>...</th>\n",
       "      <td>...</td>\n",
       "    </tr>\n",
       "    <tr>\n",
       "      <th>346</th>\n",
       "      <td>159</td>\n",
       "    </tr>\n",
       "    <tr>\n",
       "      <th>347</th>\n",
       "      <td>170</td>\n",
       "    </tr>\n",
       "    <tr>\n",
       "      <th>348</th>\n",
       "      <td>160</td>\n",
       "    </tr>\n",
       "    <tr>\n",
       "      <th>349</th>\n",
       "      <td>152</td>\n",
       "    </tr>\n",
       "    <tr>\n",
       "      <th>350</th>\n",
       "      <td>153</td>\n",
       "    </tr>\n",
       "  </tbody>\n",
       "</table>\n",
       "<p>351 rows × 1 columns</p>\n",
       "</div>"
      ],
      "text/plain": [
       "     Height\n",
       "0       156\n",
       "1       163\n",
       "2       169\n",
       "3       161\n",
       "4       154\n",
       "..      ...\n",
       "346     159\n",
       "347     170\n",
       "348     160\n",
       "349     152\n",
       "350     153\n",
       "\n",
       "[351 rows x 1 columns]"
      ]
     },
     "execution_count": 3,
     "metadata": {},
     "output_type": "execute_result"
    }
   ],
   "source": [
    "heights = pd.read_csv(\"heights.dat\")\n",
    "heights"
   ]
  },
  {
   "cell_type": "code",
   "execution_count": 4,
   "id": "d4a6664d-695c-4112-975c-c48cd64a76f3",
   "metadata": {},
   "outputs": [
    {
     "data": {
      "text/plain": [
       "Height    159.774929\n",
       "dtype: float64"
      ]
     },
     "execution_count": 4,
     "metadata": {},
     "output_type": "execute_result"
    }
   ],
   "source": [
    "heights.mean()"
   ]
  },
  {
   "cell_type": "code",
   "execution_count": 5,
   "id": "79b7e9d1-ed37-4aaf-b712-605b6ff44184",
   "metadata": {},
   "outputs": [
    {
     "data": {
      "text/plain": [
       "Height    0.129492\n",
       "dtype: float64"
      ]
     },
     "execution_count": 5,
     "metadata": {},
     "output_type": "execute_result"
    }
   ],
   "source": [
    "heights.skew()"
   ]
  },
  {
   "cell_type": "code",
   "execution_count": 6,
   "id": "53b7175f-6861-496c-a18f-d709a253171c",
   "metadata": {},
   "outputs": [
    {
     "data": {
      "image/png": "[encoded data removed]",
      "text/plain": [
       "<Figure size 432x288 with 1 Axes>"
      ]
     },
     "metadata": {
      "needs_background": "light"
     },
     "output_type": "display_data"
    }
   ],
   "source": [
    "plt.hist(heights, bins = 15)\n",
    "plt.show()"
   ]
  },
  {
   "cell_type": "code",
   "execution_count": 7,
   "id": "21b28170-0ba7-45d9-8dff-79b84d78dd62",
   "metadata": {},
   "outputs": [
    {
     "data": {
      "text/plain": [
       "Height    6.02974\n",
       "dtype: float64"
      ]
     },
     "execution_count": 7,
     "metadata": {},
     "output_type": "execute_result"
    }
   ],
   "source": [
    "heights.std()"
   ]
  },
  {
   "cell_type": "code",
   "execution_count": 8,
   "id": "f3bccfe5-fb0e-47e5-b908-7bb13d495b2b",
   "metadata": {},
   "outputs": [
    {
     "data": {
      "text/plain": [
       "(Height    153.745188\n",
       " dtype: float64,\n",
       " Height    165.804669\n",
       " dtype: float64)"
      ]
     },
     "execution_count": 8,
     "metadata": {},
     "output_type": "execute_result"
    }
   ],
   "source": [
    "heights.mean() - heights.std(), heights.mean() + heights.std()"
   ]
  },
  {
   "cell_type": "code",
   "execution_count": 9,
   "id": "973189ba-de5d-4404-9307-0905a1c03058",
   "metadata": {},
   "outputs": [
    {
     "data": {
      "image/png": "[encoded data removed]",
      "text/plain": [
       "<Figure size 432x288 with 1 Axes>"
      ]
     },
     "metadata": {
      "needs_background": "light"
     },
     "output_type": "display_data"
    }
   ],
   "source": [
    "plt.hist(heights, bins = 15)\n",
    "plt.axvline(heights.mean().values[0] - heights.std().values[0], c = \"y\")\n",
    "plt.axvline(heights.mean().values[0] + heights.std().values[0], c = \"y\")\n",
    "plt.show()"
   ]
  },
  {
   "cell_type": "code",
   "execution_count": 13,
   "id": "348f9f05-a2be-4eeb-90f7-6917e8f4adf4",
   "metadata": {},
   "outputs": [
    {
     "data": {
      "text/plain": [
       "0.30853753872598755"
      ]
     },
     "execution_count": 13,
     "metadata": {},
     "output_type": "execute_result"
    }
   ],
   "source": [
    "norm.cdf(9.8, loc = 10, scale = 0.4)"
   ]
  },
  {
   "cell_type": "code",
   "execution_count": 18,
   "id": "ec173fa7-b6f7-45e1-8799-faedc55c6d2c",
   "metadata": {},
   "outputs": [
    {
     "data": {
      "text/plain": [
       "1.959963984540054"
      ]
     },
     "execution_count": 18,
     "metadata": {},
     "output_type": "execute_result"
    }
   ],
   "source": [
    "norm.ppf(0.025 + 0.95, loc = 0, scale = 1)"
   ]
  },
  {
   "cell_type": "code",
   "execution_count": 26,
   "id": "09333b77-1d86-4672-84a9-9b4bf5bed3f0",
   "metadata": {},
   "outputs": [],
   "source": [
    "def get_real_confidence_interval(probability, mean, std):\n",
    "    lower_area = (1 - probability) / 2\n",
    "    upper_area = (1 + probability) / 2\n",
    "    return [\n",
    "        norm.ppf(lower_area, mean, std),\n",
    "        norm.ppf(upper_area, mean, std)]"
   ]
  },
  {
   "cell_type": "code",
   "execution_count": 28,
   "id": "58c3f92d-f897-42d9-8af6-f65982a44012",
   "metadata": {},
   "outputs": [
    {
     "data": {
      "text/plain": [
       "[-1.959963984540054, 1.959963984540054]"
      ]
     },
     "execution_count": 28,
     "metadata": {},
     "output_type": "execute_result"
    }
   ],
   "source": [
    "get_real_confidence_interval(0.95, 0, 1)"
   ]
  },
  {
   "cell_type": "code",
   "execution_count": 32,
   "id": "bd60027b-2223-4f77-b027-65e9a912410b",
   "metadata": {},
   "outputs": [
    {
     "data": {
      "text/plain": [
       "[155.70793065941257, 163.841926890445]"
      ]
     },
     "execution_count": 32,
     "metadata": {},
     "output_type": "execute_result"
    }
   ],
   "source": [
    "get_real_confidence_interval(0.5, heights.mean().values[0], heights.std().values[0])"
   ]
  },
  {
   "cell_type": "code",
   "execution_count": 31,
   "id": "f3b47525-7ae7-4eb6-b129-9a5b2da050f1",
   "metadata": {},
   "outputs": [
    {
     "data": {
      "text/plain": [
       "[152.83862060891977, 166.7112369409378]"
      ]
     },
     "execution_count": 31,
     "metadata": {},
     "output_type": "execute_result"
    }
   ],
   "source": [
    "get_real_confidence_interval(0.75, heights.mean().values[0], heights.std().values[0])"
   ]
  },
  {
   "cell_type": "code",
   "execution_count": 30,
   "id": "9fc01b00-5270-4850-b628-0b8cf7118728",
   "metadata": {},
   "outputs": [
    {
     "data": {
      "text/plain": [
       "[147.95685469850773, 171.59300285134984]"
      ]
     },
     "execution_count": 30,
     "metadata": {},
     "output_type": "execute_result"
    }
   ],
   "source": [
    "get_real_confidence_interval(0.95, heights.mean().values[0], heights.std().values[0])"
   ]
  },
  {
   "cell_type": "code",
   "execution_count": 33,
   "id": "cd3acfff-9ba4-4306-897d-f0b2ad14b158",
   "metadata": {},
   "outputs": [
    {
     "data": {
      "text/plain": [
       "[141.88023942464264, 177.66961812521487]"
      ]
     },
     "execution_count": 33,
     "metadata": {},
     "output_type": "execute_result"
    }
   ],
   "source": [
    "get_real_confidence_interval(0.997, heights.mean().values[0], heights.std().values[0])"
   ]
  }
 ],
 "metadata": {
  "kernelspec": {
   "display_name": "Python 3 (ipykernel)",
   "language": "python",
   "name": "python3"
  },
  "language_info": {
   "codemirror_mode": {
    "name": "ipython",
    "version": 3
   },
   "file_extension": ".py",
   "mimetype": "text/x-python",
   "name": "python",
   "nbconvert_exporter": "python",
   "pygments_lexer": "ipython3",
   "version": "3.9.12"
  }
 },
 "nbformat": 4,
 "nbformat_minor": 5
}
