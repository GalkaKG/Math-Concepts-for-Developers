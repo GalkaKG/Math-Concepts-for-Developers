{
 "cells": [
  {
   "cell_type": "code",
   "execution_count": 1,
   "id": "d509fa09-552b-46fd-af9c-a66d9f3a57d7",
   "metadata": {},
   "outputs": [],
   "source": [
    "%matplotlib inline"
   ]
  },
  {
   "cell_type": "code",
   "execution_count": 2,
   "id": "808713df-95ce-46b8-a699-04d5957dde0a",
   "metadata": {},
   "outputs": [],
   "source": [
    "import numpy as np\n",
    "import pandas as pd\n",
    "import matplotlib.pyplot as plt\n",
    "\n",
    "from scipy.stats import norm\n",
    "import scipy.stats as st"
   ]
  },
  {
   "cell_type": "markdown",
   "id": "46f68f1b-3853-4c8c-8735-80779e826100",
   "metadata": {},
   "source": [
    "# Hypothesis Testing\n",
    "\n",
    "## Live Demos"
   ]
  },
  {
   "cell_type": "code",
   "execution_count": 3,
   "id": "243fefab-5532-4978-a5ba-35035b2c9842",
   "metadata": {},
   "outputs": [
    {
     "data": {
      "text/html": [
       "<div>\n",
       "<style scoped>\n",
       "    .dataframe tbody tr th:only-of-type {\n",
       "        vertical-align: middle;\n",
       "    }\n",
       "\n",
       "    .dataframe tbody tr th {\n",
       "        vertical-align: top;\n",
       "    }\n",
       "\n",
       "    .dataframe thead th {\n",
       "        text-align: right;\n",
       "    }\n",
       "</style>\n",
       "<table border=\"1\" class=\"dataframe\">\n",
       "  <thead>\n",
       "    <tr style=\"text-align: right;\">\n",
       "      <th></th>\n",
       "      <th>Height</th>\n",
       "    </tr>\n",
       "  </thead>\n",
       "  <tbody>\n",
       "    <tr>\n",
       "      <th>0</th>\n",
       "      <td>156</td>\n",
       "    </tr>\n",
       "    <tr>\n",
       "      <th>1</th>\n",
       "      <td>163</td>\n",
       "    </tr>\n",
       "    <tr>\n",
       "      <th>2</th>\n",
       "      <td>169</td>\n",
       "    </tr>\n",
       "    <tr>\n",
       "      <th>3</th>\n",
       "      <td>161</td>\n",
       "    </tr>\n",
       "    <tr>\n",
       "      <th>4</th>\n",
       "      <td>154</td>\n",
       "    </tr>\n",
       "    <tr>\n",
       "      <th>...</th>\n",
       "      <td>...</td>\n",
       "    </tr>\n",
       "    <tr>\n",
       "      <th>346</th>\n",
       "      <td>159</td>\n",
       "    </tr>\n",
       "    <tr>\n",
       "      <th>347</th>\n",
       "      <td>170</td>\n",
       "    </tr>\n",
       "    <tr>\n",
       "      <th>348</th>\n",
       "      <td>160</td>\n",
       "    </tr>\n",
       "    <tr>\n",
       "      <th>349</th>\n",
       "      <td>152</td>\n",
       "    </tr>\n",
       "    <tr>\n",
       "      <th>350</th>\n",
       "      <td>153</td>\n",
       "    </tr>\n",
       "  </tbody>\n",
       "</table>\n",
       "<p>351 rows × 1 columns</p>\n",
       "</div>"
      ],
      "text/plain": [
       "     Height\n",
       "0       156\n",
       "1       163\n",
       "2       169\n",
       "3       161\n",
       "4       154\n",
       "..      ...\n",
       "346     159\n",
       "347     170\n",
       "348     160\n",
       "349     152\n",
       "350     153\n",
       "\n",
       "[351 rows x 1 columns]"
      ]
     },
     "execution_count": 3,
     "metadata": {},
     "output_type": "execute_result"
    }
   ],
   "source": [
    "heights = pd.read_csv(\"heights.dat\")\n",
    "heights"
   ]
  },
  {
   "cell_type": "code",
   "execution_count": 4,
   "id": "d4a6664d-695c-4112-975c-c48cd64a76f3",
   "metadata": {},
   "outputs": [
    {
     "data": {
      "text/plain": [
       "Height    159.774929\n",
       "dtype: float64"
      ]
     },
     "execution_count": 4,
     "metadata": {},
     "output_type": "execute_result"
    }
   ],
   "source": [
    "heights.mean()"
   ]
  },
  {
   "cell_type": "code",
   "execution_count": 5,
   "id": "79b7e9d1-ed37-4aaf-b712-605b6ff44184",
   "metadata": {},
   "outputs": [
    {
     "data": {
      "text/plain": [
       "Height    0.129492\n",
       "dtype: float64"
      ]
     },
     "execution_count": 5,
     "metadata": {},
     "output_type": "execute_result"
    }
   ],
   "source": [
    "heights.skew()"
   ]
  },
  {
   "cell_type": "code",
   "execution_count": 6,
   "id": "53b7175f-6861-496c-a18f-d709a253171c",
   "metadata": {},
   "outputs": [
    {
     "data": {
      "image/png": "[encoded data removed]",
      "text/plain": [
       "<Figure size 432x288 with 1 Axes>"
      ]
     },
     "metadata": {
      "needs_background": "light"
     },
     "output_type": "display_data"
    }
   ],
   "source": [
    "plt.hist(heights, bins = 15)\n",
    "plt.show()"
   ]
  },
  {
   "cell_type": "code",
   "execution_count": 7,
   "id": "21b28170-0ba7-45d9-8dff-79b84d78dd62",
   "metadata": {},
   "outputs": [
    {
     "data": {
      "text/plain": [
       "Height    6.02974\n",
       "dtype: float64"
      ]
     },
     "execution_count": 7,
     "metadata": {},
     "output_type": "execute_result"
    }
   ],
   "source": [
    "heights.std()"
   ]
  },
  {
   "cell_type": "code",
   "execution_count": 8,
   "id": "f3bccfe5-fb0e-47e5-b908-7bb13d495b2b",
   "metadata": {},
   "outputs": [
    {
     "data": {
      "text/plain": [
       "(Height    153.745188\n",
       " dtype: float64,\n",
       " Height    165.804669\n",
       " dtype: float64)"
      ]
     },
     "execution_count": 8,
     "metadata": {},
     "output_type": "execute_result"
    }
   ],
   "source": [
    "heights.mean() - heights.std(), heights.mean() + heights.std()"
   ]
  },
  {
   "cell_type": "code",
   "execution_count": 9,
   "id": "973189ba-de5d-4404-9307-0905a1c03058",
   "metadata": {},
   "outputs": [
    {
     "data": {
      "image/png": "[encoded data removed]",
      "text/plain": [
       "<Figure size 432x288 with 1 Axes>"
      ]
     },
     "metadata": {
      "needs_background": "light"
     },
     "output_type": "display_data"
    }
   ],
   "source": [
    "plt.hist(heights, bins = 15)\n",
    "plt.axvline(heights.mean().values[0] - heights.std().values[0], c = \"y\")\n",
    "plt.axvline(heights.mean().values[0] + heights.std().values[0], c = \"y\")\n",
    "plt.show()"
   ]
  },
  {
   "cell_type": "code",
   "execution_count": 10,
   "id": "348f9f05-a2be-4eeb-90f7-6917e8f4adf4",
   "metadata": {},
   "outputs": [
    {
     "data": {
      "text/plain": [
       "0.30853753872598755"
      ]
     },
     "execution_count": 10,
     "metadata": {},
     "output_type": "execute_result"
    }
   ],
   "source": [
    "norm.cdf(9.8, loc = 10, scale = 0.4)"
   ]
  },
  {
   "cell_type": "code",
   "execution_count": 11,
   "id": "ec173fa7-b6f7-45e1-8799-faedc55c6d2c",
   "metadata": {},
   "outputs": [
    {
     "data": {
      "text/plain": [
       "1.959963984540054"
      ]
     },
     "execution_count": 11,
     "metadata": {},
     "output_type": "execute_result"
    }
   ],
   "source": [
    "norm.ppf(0.025 + 0.95, loc = 0, scale = 1)"
   ]
  },
  {
   "cell_type": "code",
   "execution_count": 12,
   "id": "09333b77-1d86-4672-84a9-9b4bf5bed3f0",
   "metadata": {},
   "outputs": [],
   "source": [
    "def get_real_confidence_interval(probability, mean, std):\n",
    "    lower_area = (1 - probability) / 2\n",
    "    upper_area = (1 + probability) / 2\n",
    "    return [\n",
    "        norm.ppf(lower_area, mean, std),\n",
    "        norm.ppf(upper_area, mean, std)]"
   ]
  },
  {
   "cell_type": "code",
   "execution_count": 13,
   "id": "58c3f92d-f897-42d9-8af6-f65982a44012",
   "metadata": {},
   "outputs": [
    {
     "data": {
      "text/plain": [
       "[-1.959963984540054, 1.959963984540054]"
      ]
     },
     "execution_count": 13,
     "metadata": {},
     "output_type": "execute_result"
    }
   ],
   "source": [
    "get_real_confidence_interval(0.95, 0, 1)"
   ]
  },
  {
   "cell_type": "code",
   "execution_count": 14,
   "id": "bd60027b-2223-4f77-b027-65e9a912410b",
   "metadata": {},
   "outputs": [
    {
     "data": {
      "text/plain": [
       "[155.70793065941257, 163.841926890445]"
      ]
     },
     "execution_count": 14,
     "metadata": {},
     "output_type": "execute_result"
    }
   ],
   "source": [
    "get_real_confidence_interval(0.5, heights.mean().values[0], heights.std().values[0])"
   ]
  },
  {
   "cell_type": "code",
   "execution_count": 15,
   "id": "f3b47525-7ae7-4eb6-b129-9a5b2da050f1",
   "metadata": {},
   "outputs": [
    {
     "data": {
      "text/plain": [
       "[152.83862060891977, 166.7112369409378]"
      ]
     },
     "execution_count": 15,
     "metadata": {},
     "output_type": "execute_result"
    }
   ],
   "source": [
    "get_real_confidence_interval(0.75, heights.mean().values[0], heights.std().values[0])"
   ]
  },
  {
   "cell_type": "code",
   "execution_count": 16,
   "id": "9fc01b00-5270-4850-b628-0b8cf7118728",
   "metadata": {},
   "outputs": [
    {
     "data": {
      "text/plain": [
       "[147.95685469850773, 171.59300285134984]"
      ]
     },
     "execution_count": 16,
     "metadata": {},
     "output_type": "execute_result"
    }
   ],
   "source": [
    "get_real_confidence_interval(0.95, heights.mean().values[0], heights.std().values[0])"
   ]
  },
  {
   "cell_type": "code",
   "execution_count": 17,
   "id": "cd3acfff-9ba4-4306-897d-f0b2ad14b158",
   "metadata": {},
   "outputs": [
    {
     "data": {
      "text/plain": [
       "[141.88023942464264, 177.66961812521487]"
      ]
     },
     "execution_count": 17,
     "metadata": {},
     "output_type": "execute_result"
    }
   ],
   "source": [
    "get_real_confidence_interval(0.997, heights.mean().values[0], heights.std().values[0])"
   ]
  },
  {
   "cell_type": "code",
   "execution_count": 21,
   "id": "a7404d74-3997-4008-90cc-bf07ae78c34e",
   "metadata": {},
   "outputs": [],
   "source": [
    "sample_data = norm.rvs(5, 10, 100)"
   ]
  },
  {
   "cell_type": "code",
   "execution_count": 22,
   "id": "839fe7f4-39aa-4c55-9436-00605ec71500",
   "metadata": {},
   "outputs": [
    {
     "data": {
      "text/plain": [
       "array([  8.23440825,   0.61959963,   8.16164505,  -3.73843605,\n",
       "       -18.01484203,  10.49717522,  10.47002431,  -0.17636546,\n",
       "       -11.40995352,   9.33046477,  -1.12087411,  -2.69058529,\n",
       "         4.41360095,   7.73251692,   5.43036798,  12.25658507,\n",
       "         7.94704197,   3.50043884,  10.49357233, -13.68330944,\n",
       "         7.35023899,   5.99540489,  -1.66515791, -11.28685933,\n",
       "        10.99993565,  -4.56151801,  12.48746233,  10.4582207 ,\n",
       "        22.23383493,  -3.54922255,   6.98297378,   4.55408309,\n",
       "        14.2532369 ,   0.5819263 , -10.32264134,   7.99739996,\n",
       "         3.69900676,   1.7842219 ,  18.89934528,  23.91189393,\n",
       "        -5.44435788,  13.96756547,  -3.39096826,  -3.46408615,\n",
       "         0.22416379,  -7.64919097,   9.94014741,  -5.82132179,\n",
       "        11.92290888,   3.2046198 ,  17.45751258,  12.5694294 ,\n",
       "        13.20951476,  12.62687296,  -5.07435441, -19.88990662,\n",
       "         3.32743314,   7.75707186,   7.75046761,  -2.29248171,\n",
       "        -1.86068112,   1.15920128,  12.71421095,  -8.42020181,\n",
       "         2.83306928,   1.48521003,  -0.32062655,  -1.32103431,\n",
       "        16.66768211,  17.52125773,  10.05720461,  18.28918652,\n",
       "        14.43105366,   7.9096629 ,   1.15352628,   4.17824116,\n",
       "        12.06187711,  -2.85208302,   1.32991795,  13.559299  ,\n",
       "        -2.9423077 ,   9.85640562,   3.12304677,   2.9067641 ,\n",
       "        14.60626749,  16.23805217,  11.85782878,  -6.02385382,\n",
       "         8.95782332,  10.44715443,   0.30611391,  17.18210959,\n",
       "        12.31018112, -10.22664648,  10.36568194,   1.20891592,\n",
       "        19.09676115,   4.43434955,   9.79053133,  14.9689452 ])"
      ]
     },
     "execution_count": 22,
     "metadata": {},
     "output_type": "execute_result"
    }
   ],
   "source": [
    "sample_data"
   ]
  },
  {
   "cell_type": "code",
   "execution_count": 27,
   "id": "c144cbd1-3b60-4d3e-b57d-22281a778a20",
   "metadata": {},
   "outputs": [
    {
     "data": {
      "text/plain": [
       "Ttest_1sampResult(statistic=-1.1404010217005733, pvalue=0.25687064499959233)"
      ]
     },
     "execution_count": 27,
     "metadata": {},
     "output_type": "execute_result"
    }
   ],
   "source": [
    "st.ttest_1samp(sample_data, 6)"
   ]
  },
  {
   "cell_type": "code",
   "execution_count": 30,
   "id": "7270b74d-468b-4a8b-bc8e-999e8f9a4c0d",
   "metadata": {},
   "outputs": [],
   "source": [
    "grain_data = pd.read_table(\"grain_data.dat\")"
   ]
  },
  {
   "cell_type": "code",
   "execution_count": 31,
   "id": "9da9aff3-d1c9-4b94-aa51-3508f3de1140",
   "metadata": {},
   "outputs": [
    {
     "data": {
      "text/html": [
       "<div>\n",
       "<style scoped>\n",
       "    .dataframe tbody tr th:only-of-type {\n",
       "        vertical-align: middle;\n",
       "    }\n",
       "\n",
       "    .dataframe tbody tr th {\n",
       "        vertical-align: top;\n",
       "    }\n",
       "\n",
       "    .dataframe thead th {\n",
       "        text-align: right;\n",
       "    }\n",
       "</style>\n",
       "<table border=\"1\" class=\"dataframe\">\n",
       "  <thead>\n",
       "    <tr style=\"text-align: right;\">\n",
       "      <th></th>\n",
       "      <th>Year</th>\n",
       "      <th>GreatNorthern</th>\n",
       "      <th>BigFour</th>\n",
       "    </tr>\n",
       "  </thead>\n",
       "  <tbody>\n",
       "    <tr>\n",
       "      <th>0</th>\n",
       "      <td>1912</td>\n",
       "      <td>71.0</td>\n",
       "      <td>54.7</td>\n",
       "    </tr>\n",
       "    <tr>\n",
       "      <th>1</th>\n",
       "      <td>1913</td>\n",
       "      <td>73.9</td>\n",
       "      <td>60.6</td>\n",
       "    </tr>\n",
       "    <tr>\n",
       "      <th>2</th>\n",
       "      <td>1914</td>\n",
       "      <td>48.9</td>\n",
       "      <td>45.1</td>\n",
       "    </tr>\n",
       "    <tr>\n",
       "      <th>3</th>\n",
       "      <td>1915</td>\n",
       "      <td>78.9</td>\n",
       "      <td>71.0</td>\n",
       "    </tr>\n",
       "    <tr>\n",
       "      <th>4</th>\n",
       "      <td>1916</td>\n",
       "      <td>43.5</td>\n",
       "      <td>40.9</td>\n",
       "    </tr>\n",
       "    <tr>\n",
       "      <th>5</th>\n",
       "      <td>1917</td>\n",
       "      <td>47.9</td>\n",
       "      <td>45.4</td>\n",
       "    </tr>\n",
       "    <tr>\n",
       "      <th>6</th>\n",
       "      <td>1918</td>\n",
       "      <td>63.0</td>\n",
       "      <td>53.4</td>\n",
       "    </tr>\n",
       "    <tr>\n",
       "      <th>7</th>\n",
       "      <td>1919</td>\n",
       "      <td>48.4</td>\n",
       "      <td>41.2</td>\n",
       "    </tr>\n",
       "    <tr>\n",
       "      <th>8</th>\n",
       "      <td>1920</td>\n",
       "      <td>48.1</td>\n",
       "      <td>44.8</td>\n",
       "    </tr>\n",
       "  </tbody>\n",
       "</table>\n",
       "</div>"
      ],
      "text/plain": [
       "   Year  GreatNorthern  BigFour\n",
       "0  1912           71.0     54.7\n",
       "1  1913           73.9     60.6\n",
       "2  1914           48.9     45.1\n",
       "3  1915           78.9     71.0\n",
       "4  1916           43.5     40.9\n",
       "5  1917           47.9     45.4\n",
       "6  1918           63.0     53.4\n",
       "7  1919           48.4     41.2\n",
       "8  1920           48.1     44.8"
      ]
     },
     "execution_count": 31,
     "metadata": {},
     "output_type": "execute_result"
    }
   ],
   "source": [
    "grain_data"
   ]
  },
  {
   "cell_type": "code",
   "execution_count": 32,
   "id": "b64f0c83-8066-4951-ad64-092bfcb0db35",
   "metadata": {},
   "outputs": [
    {
     "data": {
      "text/plain": [
       "0    71.0\n",
       "1    73.9\n",
       "2    48.9\n",
       "3    78.9\n",
       "4    43.5\n",
       "5    47.9\n",
       "6    63.0\n",
       "7    48.4\n",
       "8    48.1\n",
       "Name: GreatNorthern, dtype: float64"
      ]
     },
     "execution_count": 32,
     "metadata": {},
     "output_type": "execute_result"
    }
   ],
   "source": [
    "grain_data.GreatNorthern"
   ]
  },
  {
   "cell_type": "code",
   "execution_count": 33,
   "id": "97810549-09ef-4ab1-ba1b-91d008815efd",
   "metadata": {},
   "outputs": [
    {
     "data": {
      "text/plain": [
       "Ttest_indResult(statistic=1.312336706487564, pvalue=0.20792200785311768)"
      ]
     },
     "execution_count": 33,
     "metadata": {},
     "output_type": "execute_result"
    }
   ],
   "source": [
    "st.ttest_ind(grain_data.GreatNorthern, grain_data.BigFour)"
   ]
  },
  {
   "cell_type": "code",
   "execution_count": 40,
   "id": "d4deec16-d112-427b-a624-9255d719e6eb",
   "metadata": {},
   "outputs": [],
   "source": [
    "water_data = pd.read_table(\"water_data.dat\")"
   ]
  },
  {
   "cell_type": "code",
   "execution_count": 41,
   "id": "e9f50adc-b2d8-401d-9f53-dcb3b8aaa78c",
   "metadata": {},
   "outputs": [
    {
     "data": {
      "text/html": [
       "<div>\n",
       "<style scoped>\n",
       "    .dataframe tbody tr th:only-of-type {\n",
       "        vertical-align: middle;\n",
       "    }\n",
       "\n",
       "    .dataframe tbody tr th {\n",
       "        vertical-align: top;\n",
       "    }\n",
       "\n",
       "    .dataframe thead th {\n",
       "        text-align: right;\n",
       "    }\n",
       "</style>\n",
       "<table border=\"1\" class=\"dataframe\">\n",
       "  <thead>\n",
       "    <tr style=\"text-align: right;\">\n",
       "      <th></th>\n",
       "      <th>bottom</th>\n",
       "      <th>surface</th>\n",
       "    </tr>\n",
       "  </thead>\n",
       "  <tbody>\n",
       "    <tr>\n",
       "      <th>0</th>\n",
       "      <td>0.430</td>\n",
       "      <td>0.415</td>\n",
       "    </tr>\n",
       "    <tr>\n",
       "      <th>1</th>\n",
       "      <td>0.266</td>\n",
       "      <td>0.238</td>\n",
       "    </tr>\n",
       "    <tr>\n",
       "      <th>2</th>\n",
       "      <td>0.567</td>\n",
       "      <td>0.390</td>\n",
       "    </tr>\n",
       "    <tr>\n",
       "      <th>3</th>\n",
       "      <td>0.531</td>\n",
       "      <td>0.410</td>\n",
       "    </tr>\n",
       "    <tr>\n",
       "      <th>4</th>\n",
       "      <td>0.707</td>\n",
       "      <td>0.605</td>\n",
       "    </tr>\n",
       "    <tr>\n",
       "      <th>5</th>\n",
       "      <td>0.716</td>\n",
       "      <td>0.609</td>\n",
       "    </tr>\n",
       "    <tr>\n",
       "      <th>6</th>\n",
       "      <td>0.651</td>\n",
       "      <td>0.632</td>\n",
       "    </tr>\n",
       "    <tr>\n",
       "      <th>7</th>\n",
       "      <td>0.589</td>\n",
       "      <td>0.523</td>\n",
       "    </tr>\n",
       "    <tr>\n",
       "      <th>8</th>\n",
       "      <td>0.469</td>\n",
       "      <td>0.411</td>\n",
       "    </tr>\n",
       "    <tr>\n",
       "      <th>9</th>\n",
       "      <td>0.723</td>\n",
       "      <td>0.612</td>\n",
       "    </tr>\n",
       "  </tbody>\n",
       "</table>\n",
       "</div>"
      ],
      "text/plain": [
       "   bottom  surface\n",
       "0   0.430    0.415\n",
       "1   0.266    0.238\n",
       "2   0.567    0.390\n",
       "3   0.531    0.410\n",
       "4   0.707    0.605\n",
       "5   0.716    0.609\n",
       "6   0.651    0.632\n",
       "7   0.589    0.523\n",
       "8   0.469    0.411\n",
       "9   0.723    0.612"
      ]
     },
     "execution_count": 41,
     "metadata": {},
     "output_type": "execute_result"
    }
   ],
   "source": [
    "water_data"
   ]
  },
  {
   "cell_type": "code",
   "execution_count": 42,
   "id": "9abf9183-1079-41d2-a8db-80283cd72067",
   "metadata": {},
   "outputs": [
    {
     "data": {
      "text/plain": [
       "Ttest_indResult(statistic=1.2913112256801194, pvalue=0.2129332372530338)"
      ]
     },
     "execution_count": 42,
     "metadata": {},
     "output_type": "execute_result"
    }
   ],
   "source": [
    "st.ttest_ind(water_data.bottom, water_data.surface)"
   ]
  },
  {
   "cell_type": "code",
   "execution_count": 43,
   "id": "72d7e6ea-f61a-457d-8eb3-e7e9089ec09e",
   "metadata": {},
   "outputs": [
    {
     "data": {
      "text/plain": [
       "Ttest_relResult(statistic=4.863812745135183, pvalue=0.0008911154578225479)"
      ]
     },
     "execution_count": 43,
     "metadata": {},
     "output_type": "execute_result"
    }
   ],
   "source": [
    "st.ttest_rel(water_data.bottom, water_data.surface)"
   ]
  }
 ],
 "metadata": {
  "kernelspec": {
   "display_name": "Python 3 (ipykernel)",
   "language": "python",
   "name": "python3"
  },
  "language_info": {
   "codemirror_mode": {
    "name": "ipython",
    "version": 3
   },
   "file_extension": ".py",
   "mimetype": "text/x-python",
   "name": "python",
   "nbconvert_exporter": "python",
   "pygments_lexer": "ipython3",
   "version": "3.9.12"
  }
 },
 "nbformat": 4,
 "nbformat_minor": 5
}
