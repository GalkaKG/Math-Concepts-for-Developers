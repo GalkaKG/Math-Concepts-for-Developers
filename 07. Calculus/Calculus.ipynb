{
 "cells": [
  {
   "cell_type": "code",
   "execution_count": 1,
   "id": "2d119bfb-8714-416f-8919-9650c2552bec",
   "metadata": {},
   "outputs": [],
   "source": [
    "import numpy as np\n",
    "import matplotlib.pyplot as plt"
   ]
  },
  {
   "cell_type": "markdown",
   "id": "8b4f48e8-5077-413d-9b49-a31743a0455b",
   "metadata": {},
   "source": [
    "## Calculus\n",
    "\n",
    "### Live Demos"
   ]
  },
  {
   "cell_type": "code",
   "execution_count": 2,
   "id": "e3ffa6e2-34f9-4a30-9a88-926e30669ef7",
   "metadata": {},
   "outputs": [],
   "source": [
    "def get_limit(f, a):\n",
    "    epsilon = np.array([\n",
    "        10 ** p\n",
    "        for p in ap.arange(0, -11, -1, dtype = float)])\n",
    "    x = np.append(a - epsilom, (a + epsilon)[::-1])\n",
    "    y = f(x)\n",
    "    return np.stack([x, y], axis = 1)"
   ]
  },
  {
   "cell_type": "code",
   "execution_count": 3,
   "id": "7845e778-55c9-462b-8415-eb18aef44bdb",
   "metadata": {},
   "outputs": [
    {
     "data": {
      "text/plain": [
       "array([  0.,  -1.,  -2.,  -3.,  -4.,  -5.,  -6.,  -7.,  -8.,  -9., -10.])"
      ]
     },
     "execution_count": 3,
     "metadata": {},
     "output_type": "execute_result"
    }
   ],
   "source": [
    "np.arange(0, -11, -1, dtype = float)"
   ]
  },
  {
   "cell_type": "code",
   "execution_count": 4,
   "id": "e522280e-c520-4511-b839-bc9c5f3018eb",
   "metadata": {},
   "outputs": [
    {
     "data": {
      "text/plain": [
       "array([1.e+00, 1.e-01, 1.e-02, 1.e-03, 1.e-04, 1.e-05, 1.e-06, 1.e-07,\n",
       "       1.e-08, 1.e-09, 1.e-10])"
      ]
     },
     "execution_count": 4,
     "metadata": {},
     "output_type": "execute_result"
    }
   ],
   "source": [
    "10 ** np.arange(0, -11, -1, dtype = float)"
   ]
  }
 ],
 "metadata": {
  "kernelspec": {
   "display_name": "Python 3 (ipykernel)",
   "language": "python",
   "name": "python3"
  },
  "language_info": {
   "codemirror_mode": {
    "name": "ipython",
    "version": 3
   },
   "file_extension": ".py",
   "mimetype": "text/x-python",
   "name": "python",
   "nbconvert_exporter": "python",
   "pygments_lexer": "ipython3",
   "version": "3.11.7"
  }
 },
 "nbformat": 4,
 "nbformat_minor": 5
}
