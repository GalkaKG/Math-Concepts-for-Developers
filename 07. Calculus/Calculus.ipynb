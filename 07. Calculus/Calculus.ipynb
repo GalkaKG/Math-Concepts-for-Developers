{
 "cells": [
  {
   "cell_type": "code",
   "execution_count": 1,
   "id": "2d119bfb-8714-416f-8919-9650c2552bec",
   "metadata": {},
   "outputs": [],
   "source": [
    "import numpy as np\n",
    "import matplotlib.pyplot as plt"
   ]
  },
  {
   "cell_type": "markdown",
   "id": "8b4f48e8-5077-413d-9b49-a31743a0455b",
   "metadata": {},
   "source": [
    "## Calculus\n",
    "\n",
    "### Live Demos"
   ]
  },
  {
   "cell_type": "code",
   "execution_count": 11,
   "id": "e3ffa6e2-34f9-4a30-9a88-926e30669ef7",
   "metadata": {},
   "outputs": [],
   "source": [
    "def get_limit(f, a):\n",
    "    epsilon = np.array([\n",
    "        10 ** p\n",
    "        for p in np.arange(0, -11, -1, dtype = float)])\n",
    "    x = np.append(a - epsilon, (a + epsilon)[::-1])\n",
    "    y = f(x)\n",
    "    return np.stack([x, y], axis = 1)"
   ]
  },
  {
   "cell_type": "code",
   "execution_count": 12,
   "id": "fe3947db-051d-423a-bbe3-1ea721dcaa4c",
   "metadata": {},
   "outputs": [
    {
     "data": {
      "text/plain": [
       "array([[ 2.        ,  4.        ],\n",
       "       [ 2.9       ,  8.41      ],\n",
       "       [ 2.99      ,  8.9401    ],\n",
       "       [ 2.999     ,  8.994001  ],\n",
       "       [ 2.9999    ,  8.99940001],\n",
       "       [ 2.99999   ,  8.99994   ],\n",
       "       [ 2.999999  ,  8.999994  ],\n",
       "       [ 2.9999999 ,  8.9999994 ],\n",
       "       [ 2.99999999,  8.99999994],\n",
       "       [ 3.        ,  8.99999999],\n",
       "       [ 3.        ,  9.        ],\n",
       "       [ 3.        ,  9.        ],\n",
       "       [ 3.        ,  9.00000001],\n",
       "       [ 3.00000001,  9.00000006],\n",
       "       [ 3.0000001 ,  9.0000006 ],\n",
       "       [ 3.000001  ,  9.000006  ],\n",
       "       [ 3.00001   ,  9.00006   ],\n",
       "       [ 3.0001    ,  9.00060001],\n",
       "       [ 3.001     ,  9.006001  ],\n",
       "       [ 3.01      ,  9.0601    ],\n",
       "       [ 3.1       ,  9.61      ],\n",
       "       [ 4.        , 16.        ]])"
      ]
     },
     "execution_count": 12,
     "metadata": {},
     "output_type": "execute_result"
    }
   ],
   "source": [
    "get_limit(lambda x: x ** 2, 3)"
   ]
  },
  {
   "cell_type": "code",
   "execution_count": 3,
   "id": "7845e778-55c9-462b-8415-eb18aef44bdb",
   "metadata": {},
   "outputs": [
    {
     "data": {
      "text/plain": [
       "array([  0.,  -1.,  -2.,  -3.,  -4.,  -5.,  -6.,  -7.,  -8.,  -9., -10.])"
      ]
     },
     "execution_count": 3,
     "metadata": {},
     "output_type": "execute_result"
    }
   ],
   "source": [
    "np.arange(0, -11, -1, dtype = float)"
   ]
  },
  {
   "cell_type": "code",
   "execution_count": 13,
   "id": "e522280e-c520-4511-b839-bc9c5f3018eb",
   "metadata": {},
   "outputs": [
    {
     "data": {
      "text/plain": [
       "array([1.e+00, 1.e-01, 1.e-02, 1.e-03, 1.e-04, 1.e-05, 1.e-06, 1.e-07,\n",
       "       1.e-08, 1.e-09, 1.e-10])"
      ]
     },
     "execution_count": 13,
     "metadata": {},
     "output_type": "execute_result"
    }
   ],
   "source": [
    "10 ** np.arange(0, -11, -1, dtype = float)"
   ]
  },
  {
   "cell_type": "code",
   "execution_count": 15,
   "id": "4f10c64e-c004-4db0-b220-ce1f8a34a4ab",
   "metadata": {},
   "outputs": [],
   "source": [
    "def calculate_derivative(f, a, h = 1e-7):\n",
    "    return (f(a + h) - f(a)) / h"
   ]
  },
  {
   "cell_type": "code",
   "execution_count": 16,
   "id": "cdeee1f0-f795-434a-bbe1-8d6dacd20135",
   "metadata": {},
   "outputs": [
    {
     "name": "stdout",
     "output_type": "stream",
     "text": [
      "23.00000026878024\n"
     ]
    }
   ],
   "source": [
    "print(\n",
    "    calculate_derivative(\n",
    "        lambda x: 3 * x**2 + 5 * x - 8, 3)\n",
    ")"
   ]
  }
 ],
 "metadata": {
  "kernelspec": {
   "display_name": "Python 3 (ipykernel)",
   "language": "python",
   "name": "python3"
  },
  "language_info": {
   "codemirror_mode": {
    "name": "ipython",
    "version": 3
   },
   "file_extension": ".py",
   "mimetype": "text/x-python",
   "name": "python",
   "nbconvert_exporter": "python",
   "pygments_lexer": "ipython3",
   "version": "3.11.7"
  }
 },
 "nbformat": 4,
 "nbformat_minor": 5
}
