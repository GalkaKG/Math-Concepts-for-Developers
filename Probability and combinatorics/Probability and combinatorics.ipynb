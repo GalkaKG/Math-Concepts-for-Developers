{
 "cells": [
  {
   "cell_type": "markdown",
   "id": "8a71742f-5965-4bd6-9255-923e0cc94c50",
   "metadata": {},
   "source": [
    "## Probability and combinatorics"
   ]
  }
 ],
 "metadata": {
  "kernelspec": {
   "display_name": "Python 3 (ipykernel)",
   "language": "python",
   "name": "python3"
  },
  "language_info": {
   "codemirror_mode": {
    "name": "ipython",
    "version": 3
   },
   "file_extension": ".py",
   "mimetype": "text/x-python",
   "name": "python",
   "nbconvert_exporter": "python",
   "pygments_lexer": "ipython3",
   "version": "3.11.7"
  }
 },
 "nbformat": 4,
 "nbformat_minor": 5
}
