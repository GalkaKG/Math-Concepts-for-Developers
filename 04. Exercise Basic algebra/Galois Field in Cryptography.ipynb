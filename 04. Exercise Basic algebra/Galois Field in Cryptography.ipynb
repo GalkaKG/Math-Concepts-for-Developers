{
 "cells": [
  {
   "cell_type": "markdown",
   "id": "cfa455ae-3e57-4a41-8d59-2a6dcf3a7ab7",
   "metadata": {},
   "source": [
    "# The Galois Field in Cryptography"
   ]
  },
  {
   "cell_type": "markdown",
   "id": "a707899a-380f-45ef-8eb1-65bc2a469794",
   "metadata": {},
   "source": [
    "### Finite Fields,\n",
    "also known as Galois Fields, are cornerstones for understanding any cryptography. A field can be defined as a set of numbers that we can add, subtract, multiply and divide together and only ever end up with a result that exists in our set of numbers. This is particularly useful for crypto as we can deal with a limited set of extremely large numbers."
   ]
  }
 ],
 "metadata": {
  "kernelspec": {
   "display_name": "Python 3 (ipykernel)",
   "language": "python",
   "name": "python3"
  },
  "language_info": {
   "codemirror_mode": {
    "name": "ipython",
    "version": 3
   },
   "file_extension": ".py",
   "mimetype": "text/x-python",
   "name": "python",
   "nbconvert_exporter": "python",
   "pygments_lexer": "ipython3",
   "version": "3.9.12"
  }
 },
 "nbformat": 4,
 "nbformat_minor": 5
}
