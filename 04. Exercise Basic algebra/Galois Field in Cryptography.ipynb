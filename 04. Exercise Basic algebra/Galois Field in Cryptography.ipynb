{
 "cells": [
  {
   "cell_type": "markdown",
   "id": "cfa455ae-3e57-4a41-8d59-2a6dcf3a7ab7",
   "metadata": {},
   "source": [
    "# The Galois Field in Cryptography"
   ]
  },
  {
   "cell_type": "markdown",
   "id": "a88781ad-1eb3-4f9c-962d-4119991a6cf7",
   "metadata": {},
   "source": [
    "A **field** is a set, along with two operations defined on that set: an addition operation written as $ a + b $, and a multiplication operation written as $ a ⋅ b $, both of which behave similarly as they behave for rational numbers and real numbers, including the existence of an additive inverse $ −a $ for all elements $ a $, and of a multiplicative inverse $ b−1 $ for every nonzero element $ b $. This allows one to also consider the so-called inverse operations of subtraction, $ a − b $, and division, $ a / b $, by defining:\n",
    "\n",
    "$$ a − b := a + (−b), $$\n",
    "$$ a / b := a ⋅ b−1. $$"
   ]
  },
  {
   "cell_type": "markdown",
   "id": "a707899a-380f-45ef-8eb1-65bc2a469794",
   "metadata": {},
   "source": [
    "### GF(2) ,\n",
    "is the **finite** field with two elements (GF is the initialism of **Galois** field, another name for finite fields). GF(2) is the field with the smallest possible number of elements, and is unique if the additive identity and the multiplicative identity are denoted respectively 0 and 1, as usual. The elements of GF(2) may be identified with the two possible values of a bit and to the boolean values *true* and *false*. It follows that GF(2) is fundamental and ubiquitous in computer science and its logical foundations."
   ]
  },
  {
   "cell_type": "markdown",
   "id": "b4584733-4837-43bf-88d8-016d6677ac00",
   "metadata": {},
   "source": [
    "### Extending a field \n",
    "to have more elements involves creating a larger set that includes the original field's elements plus additional elements. This is often done by introducing elements that satisfy certain algebraic properties, such as being roots of polynomial equations over the original field. The resulting structure is called an extension field. One common way to construct extension fields is through finite fields, often denoted as $ GF(q) $, where \"q\" is a prime power. For example, $ GF(2) $ represents the finite field with two elements, typically denoted as 0 and 1. $ GF(3) $ represents the finite field with three elements, and so on.\n",
    "These extension fields have practical applications in various areas: \n",
    "1. Finite fields are extensively used in cryptography, particularly in the design of cryptographic algorithms such as elliptic curve cryptography (ECC) and the Rivest-Shamir-Adleman (RSA) algorithm. They provide the mathematical framework for operations like encryption, decryption, and digital signatures.\n",
    "2. Error-correcting codes: Finite fields play a crucial role in coding theory, where they are used to construct error-correcting codes for reliable data transmission and storage. For example, Reed-Solomon codes, which are widely used in applications like CDs, DVDs, and QR codes, are based on finite fields.\n",
    "3. Galois theory: Finite fields are central to Galois theory, a branch of abstract algebra that studies field extensions and symmetries of polynomial equations. Understanding the structure and properties of finite fields is essential for exploring the roots of polynomial equations and solving them in terms of radicals.\n",
    "4. Number theory: Finite fields have connections to various topics in number theory, including prime numbers, factorization algorithms, and the distribution of prime numbers in arithmetic progressions. They provide a discrete analog of the properties of real and complex numbers, allowing for the study of arithmetic phenomena in a finite setting. "
   ]
  },
  {
   "cell_type": "markdown",
   "id": "af23e2a6-7341-4efa-bac3-1fd3200f0baa",
   "metadata": {},
   "source": [
    "### Perfect secrecy, \n",
    "also known as unconditional security, is a property of encryption schemes where the encrypted message provides no information about the original plaintext to an eavesdropper, regardless of the computational resources available to the eavesdropper."
   ]
  }
 ],
 "metadata": {
  "kernelspec": {
   "display_name": "Python 3 (ipykernel)",
   "language": "python",
   "name": "python3"
  },
  "language_info": {
   "codemirror_mode": {
    "name": "ipython",
    "version": 3
   },
   "file_extension": ".py",
   "mimetype": "text/x-python",
   "name": "python",
   "nbconvert_exporter": "python",
   "pygments_lexer": "ipython3",
   "version": "3.11.7"
  }
 },
 "nbformat": 4,
 "nbformat_minor": 5
}
